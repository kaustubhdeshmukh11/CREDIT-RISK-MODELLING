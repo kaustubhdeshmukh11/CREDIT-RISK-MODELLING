{
  "cells": [
    {
      "cell_type": "markdown",
      "metadata": {
        "id": "CojT2HkoG8sb"
      },
      "source": [
        "\n",
        "\n",
        "```\n",
        "# This is formatted as code\n",
        "```\n",
        "# datasets :\n",
        "\n",
        "1.cibil [cumulated  by the various bank to the cibil body about the customers past loan history and there's a credit score and a 4 flags p1,p2,p3,p4 ]\n",
        "\n",
        "total 60 features\n",
        "\n",
        "2.Internal bank's data[bank of baroda]\n",
        "\n",
        "\n",
        "\n",
        "\n"
      ]
    },
    {
      "cell_type": "code",
      "execution_count": 1,
      "metadata": {
        "id": "sBVyX7hWADNM"
      },
      "outputs": [],
      "source": [
        "import pandas as pd\n",
        "\n",
        "\n",
        "\n"
      ]
    },
    {
      "cell_type": "code",
      "execution_count": 2,
      "metadata": {
        "id": "NBvCJrAjHtw3"
      },
      "outputs": [],
      "source": [
        "df2=pd.read_excel('cibil.xlsx')"
      ]
    },
    {
      "cell_type": "code",
      "execution_count": 3,
      "metadata": {
        "colab": {
          "base_uri": "https://localhost:8080/",
          "height": 256
        },
        "id": "0bMhJB-5H8ey",
        "outputId": "dd6f8351-60df-4cc4-a8f3-0e04fc8eb721"
      },
      "outputs": [
        {
          "data": {
            "text/html": [
              "<div>\n",
              "<style scoped>\n",
              "    .dataframe tbody tr th:only-of-type {\n",
              "        vertical-align: middle;\n",
              "    }\n",
              "\n",
              "    .dataframe tbody tr th {\n",
              "        vertical-align: top;\n",
              "    }\n",
              "\n",
              "    .dataframe thead th {\n",
              "        text-align: right;\n",
              "    }\n",
              "</style>\n",
              "<table border=\"1\" class=\"dataframe\">\n",
              "  <thead>\n",
              "    <tr style=\"text-align: right;\">\n",
              "      <th></th>\n",
              "      <th>PROSPECTID</th>\n",
              "      <th>time_since_recent_payment</th>\n",
              "      <th>time_since_first_deliquency</th>\n",
              "      <th>time_since_recent_deliquency</th>\n",
              "      <th>num_times_delinquent</th>\n",
              "      <th>max_delinquency_level</th>\n",
              "      <th>max_recent_level_of_deliq</th>\n",
              "      <th>num_deliq_6mts</th>\n",
              "      <th>num_deliq_12mts</th>\n",
              "      <th>num_deliq_6_12mts</th>\n",
              "      <th>...</th>\n",
              "      <th>pct_CC_enq_L6m_of_L12m</th>\n",
              "      <th>pct_PL_enq_L6m_of_ever</th>\n",
              "      <th>pct_CC_enq_L6m_of_ever</th>\n",
              "      <th>max_unsec_exposure_inPct</th>\n",
              "      <th>HL_Flag</th>\n",
              "      <th>GL_Flag</th>\n",
              "      <th>last_prod_enq2</th>\n",
              "      <th>first_prod_enq2</th>\n",
              "      <th>Credit_Score</th>\n",
              "      <th>Approved_Flag</th>\n",
              "    </tr>\n",
              "  </thead>\n",
              "  <tbody>\n",
              "    <tr>\n",
              "      <th>0</th>\n",
              "      <td>1</td>\n",
              "      <td>549</td>\n",
              "      <td>35</td>\n",
              "      <td>15</td>\n",
              "      <td>11</td>\n",
              "      <td>29</td>\n",
              "      <td>29</td>\n",
              "      <td>0</td>\n",
              "      <td>0</td>\n",
              "      <td>0</td>\n",
              "      <td>...</td>\n",
              "      <td>0.0</td>\n",
              "      <td>0.0</td>\n",
              "      <td>0.0</td>\n",
              "      <td>13.333</td>\n",
              "      <td>1</td>\n",
              "      <td>0</td>\n",
              "      <td>PL</td>\n",
              "      <td>PL</td>\n",
              "      <td>696</td>\n",
              "      <td>P2</td>\n",
              "    </tr>\n",
              "    <tr>\n",
              "      <th>1</th>\n",
              "      <td>2</td>\n",
              "      <td>47</td>\n",
              "      <td>-99999</td>\n",
              "      <td>-99999</td>\n",
              "      <td>0</td>\n",
              "      <td>-99999</td>\n",
              "      <td>0</td>\n",
              "      <td>0</td>\n",
              "      <td>0</td>\n",
              "      <td>0</td>\n",
              "      <td>...</td>\n",
              "      <td>0.0</td>\n",
              "      <td>0.0</td>\n",
              "      <td>0.0</td>\n",
              "      <td>0.860</td>\n",
              "      <td>0</td>\n",
              "      <td>0</td>\n",
              "      <td>ConsumerLoan</td>\n",
              "      <td>ConsumerLoan</td>\n",
              "      <td>685</td>\n",
              "      <td>P2</td>\n",
              "    </tr>\n",
              "    <tr>\n",
              "      <th>2</th>\n",
              "      <td>3</td>\n",
              "      <td>302</td>\n",
              "      <td>11</td>\n",
              "      <td>3</td>\n",
              "      <td>9</td>\n",
              "      <td>25</td>\n",
              "      <td>25</td>\n",
              "      <td>1</td>\n",
              "      <td>9</td>\n",
              "      <td>8</td>\n",
              "      <td>...</td>\n",
              "      <td>0.0</td>\n",
              "      <td>0.0</td>\n",
              "      <td>0.0</td>\n",
              "      <td>5741.667</td>\n",
              "      <td>1</td>\n",
              "      <td>0</td>\n",
              "      <td>ConsumerLoan</td>\n",
              "      <td>others</td>\n",
              "      <td>693</td>\n",
              "      <td>P2</td>\n",
              "    </tr>\n",
              "    <tr>\n",
              "      <th>3</th>\n",
              "      <td>4</td>\n",
              "      <td>-99999</td>\n",
              "      <td>-99999</td>\n",
              "      <td>-99999</td>\n",
              "      <td>0</td>\n",
              "      <td>-99999</td>\n",
              "      <td>0</td>\n",
              "      <td>0</td>\n",
              "      <td>0</td>\n",
              "      <td>0</td>\n",
              "      <td>...</td>\n",
              "      <td>0.0</td>\n",
              "      <td>0.0</td>\n",
              "      <td>0.0</td>\n",
              "      <td>9.900</td>\n",
              "      <td>0</td>\n",
              "      <td>0</td>\n",
              "      <td>others</td>\n",
              "      <td>others</td>\n",
              "      <td>673</td>\n",
              "      <td>P2</td>\n",
              "    </tr>\n",
              "    <tr>\n",
              "      <th>4</th>\n",
              "      <td>5</td>\n",
              "      <td>583</td>\n",
              "      <td>-99999</td>\n",
              "      <td>-99999</td>\n",
              "      <td>0</td>\n",
              "      <td>-99999</td>\n",
              "      <td>0</td>\n",
              "      <td>0</td>\n",
              "      <td>0</td>\n",
              "      <td>0</td>\n",
              "      <td>...</td>\n",
              "      <td>0.0</td>\n",
              "      <td>0.0</td>\n",
              "      <td>0.0</td>\n",
              "      <td>-99999.000</td>\n",
              "      <td>0</td>\n",
              "      <td>0</td>\n",
              "      <td>AL</td>\n",
              "      <td>AL</td>\n",
              "      <td>753</td>\n",
              "      <td>P1</td>\n",
              "    </tr>\n",
              "  </tbody>\n",
              "</table>\n",
              "<p>5 rows × 62 columns</p>\n",
              "</div>"
            ],
            "text/plain": [
              "   PROSPECTID  time_since_recent_payment  time_since_first_deliquency  \\\n",
              "0           1                        549                           35   \n",
              "1           2                         47                       -99999   \n",
              "2           3                        302                           11   \n",
              "3           4                     -99999                       -99999   \n",
              "4           5                        583                       -99999   \n",
              "\n",
              "   time_since_recent_deliquency  num_times_delinquent  max_delinquency_level  \\\n",
              "0                            15                    11                     29   \n",
              "1                        -99999                     0                 -99999   \n",
              "2                             3                     9                     25   \n",
              "3                        -99999                     0                 -99999   \n",
              "4                        -99999                     0                 -99999   \n",
              "\n",
              "   max_recent_level_of_deliq  num_deliq_6mts  num_deliq_12mts  \\\n",
              "0                         29               0                0   \n",
              "1                          0               0                0   \n",
              "2                         25               1                9   \n",
              "3                          0               0                0   \n",
              "4                          0               0                0   \n",
              "\n",
              "   num_deliq_6_12mts  ...  pct_CC_enq_L6m_of_L12m  pct_PL_enq_L6m_of_ever  \\\n",
              "0                  0  ...                     0.0                     0.0   \n",
              "1                  0  ...                     0.0                     0.0   \n",
              "2                  8  ...                     0.0                     0.0   \n",
              "3                  0  ...                     0.0                     0.0   \n",
              "4                  0  ...                     0.0                     0.0   \n",
              "\n",
              "   pct_CC_enq_L6m_of_ever  max_unsec_exposure_inPct  HL_Flag  GL_Flag  \\\n",
              "0                     0.0                    13.333        1        0   \n",
              "1                     0.0                     0.860        0        0   \n",
              "2                     0.0                  5741.667        1        0   \n",
              "3                     0.0                     9.900        0        0   \n",
              "4                     0.0                -99999.000        0        0   \n",
              "\n",
              "   last_prod_enq2  first_prod_enq2  Credit_Score  Approved_Flag  \n",
              "0              PL               PL           696             P2  \n",
              "1    ConsumerLoan     ConsumerLoan           685             P2  \n",
              "2    ConsumerLoan           others           693             P2  \n",
              "3          others           others           673             P2  \n",
              "4              AL               AL           753             P1  \n",
              "\n",
              "[5 rows x 62 columns]"
            ]
          },
          "execution_count": 3,
          "metadata": {},
          "output_type": "execute_result"
        }
      ],
      "source": [
        "df2.head()"
      ]
    },
    {
      "cell_type": "code",
      "execution_count": 4,
      "metadata": {
        "id": "fCXt6gAUIAKz"
      },
      "outputs": [],
      "source": [
        "df1=pd.read_excel(\"banks_internal.xlsx\")"
      ]
    },
    {
      "cell_type": "code",
      "execution_count": 5,
      "metadata": {
        "colab": {
          "base_uri": "https://localhost:8080/",
          "height": 256
        },
        "id": "HLKu36s1Md8Z",
        "outputId": "463ff092-d3d1-4f8a-e9da-e2d2f95f402e"
      },
      "outputs": [
        {
          "data": {
            "text/html": [
              "<div>\n",
              "<style scoped>\n",
              "    .dataframe tbody tr th:only-of-type {\n",
              "        vertical-align: middle;\n",
              "    }\n",
              "\n",
              "    .dataframe tbody tr th {\n",
              "        vertical-align: top;\n",
              "    }\n",
              "\n",
              "    .dataframe thead th {\n",
              "        text-align: right;\n",
              "    }\n",
              "</style>\n",
              "<table border=\"1\" class=\"dataframe\">\n",
              "  <thead>\n",
              "    <tr style=\"text-align: right;\">\n",
              "      <th></th>\n",
              "      <th>PROSPECTID</th>\n",
              "      <th>Total_TL</th>\n",
              "      <th>Tot_Closed_TL</th>\n",
              "      <th>Tot_Active_TL</th>\n",
              "      <th>Total_TL_opened_L6M</th>\n",
              "      <th>Tot_TL_closed_L6M</th>\n",
              "      <th>pct_tl_open_L6M</th>\n",
              "      <th>pct_tl_closed_L6M</th>\n",
              "      <th>pct_active_tl</th>\n",
              "      <th>pct_closed_tl</th>\n",
              "      <th>...</th>\n",
              "      <th>CC_TL</th>\n",
              "      <th>Consumer_TL</th>\n",
              "      <th>Gold_TL</th>\n",
              "      <th>Home_TL</th>\n",
              "      <th>PL_TL</th>\n",
              "      <th>Secured_TL</th>\n",
              "      <th>Unsecured_TL</th>\n",
              "      <th>Other_TL</th>\n",
              "      <th>Age_Oldest_TL</th>\n",
              "      <th>Age_Newest_TL</th>\n",
              "    </tr>\n",
              "  </thead>\n",
              "  <tbody>\n",
              "    <tr>\n",
              "      <th>0</th>\n",
              "      <td>1</td>\n",
              "      <td>5</td>\n",
              "      <td>4</td>\n",
              "      <td>1</td>\n",
              "      <td>0</td>\n",
              "      <td>0</td>\n",
              "      <td>0.000</td>\n",
              "      <td>0.0</td>\n",
              "      <td>0.200</td>\n",
              "      <td>0.800</td>\n",
              "      <td>...</td>\n",
              "      <td>0</td>\n",
              "      <td>0</td>\n",
              "      <td>1</td>\n",
              "      <td>0</td>\n",
              "      <td>4</td>\n",
              "      <td>1</td>\n",
              "      <td>4</td>\n",
              "      <td>0</td>\n",
              "      <td>72</td>\n",
              "      <td>18</td>\n",
              "    </tr>\n",
              "    <tr>\n",
              "      <th>1</th>\n",
              "      <td>2</td>\n",
              "      <td>1</td>\n",
              "      <td>0</td>\n",
              "      <td>1</td>\n",
              "      <td>0</td>\n",
              "      <td>0</td>\n",
              "      <td>0.000</td>\n",
              "      <td>0.0</td>\n",
              "      <td>1.000</td>\n",
              "      <td>0.000</td>\n",
              "      <td>...</td>\n",
              "      <td>0</td>\n",
              "      <td>1</td>\n",
              "      <td>0</td>\n",
              "      <td>0</td>\n",
              "      <td>0</td>\n",
              "      <td>0</td>\n",
              "      <td>1</td>\n",
              "      <td>0</td>\n",
              "      <td>7</td>\n",
              "      <td>7</td>\n",
              "    </tr>\n",
              "    <tr>\n",
              "      <th>2</th>\n",
              "      <td>3</td>\n",
              "      <td>8</td>\n",
              "      <td>0</td>\n",
              "      <td>8</td>\n",
              "      <td>1</td>\n",
              "      <td>0</td>\n",
              "      <td>0.125</td>\n",
              "      <td>0.0</td>\n",
              "      <td>1.000</td>\n",
              "      <td>0.000</td>\n",
              "      <td>...</td>\n",
              "      <td>0</td>\n",
              "      <td>6</td>\n",
              "      <td>1</td>\n",
              "      <td>0</td>\n",
              "      <td>0</td>\n",
              "      <td>2</td>\n",
              "      <td>6</td>\n",
              "      <td>0</td>\n",
              "      <td>47</td>\n",
              "      <td>2</td>\n",
              "    </tr>\n",
              "    <tr>\n",
              "      <th>3</th>\n",
              "      <td>4</td>\n",
              "      <td>1</td>\n",
              "      <td>0</td>\n",
              "      <td>1</td>\n",
              "      <td>1</td>\n",
              "      <td>0</td>\n",
              "      <td>1.000</td>\n",
              "      <td>0.0</td>\n",
              "      <td>1.000</td>\n",
              "      <td>0.000</td>\n",
              "      <td>...</td>\n",
              "      <td>0</td>\n",
              "      <td>0</td>\n",
              "      <td>0</td>\n",
              "      <td>0</td>\n",
              "      <td>0</td>\n",
              "      <td>0</td>\n",
              "      <td>1</td>\n",
              "      <td>1</td>\n",
              "      <td>5</td>\n",
              "      <td>5</td>\n",
              "    </tr>\n",
              "    <tr>\n",
              "      <th>4</th>\n",
              "      <td>5</td>\n",
              "      <td>3</td>\n",
              "      <td>2</td>\n",
              "      <td>1</td>\n",
              "      <td>0</td>\n",
              "      <td>0</td>\n",
              "      <td>0.000</td>\n",
              "      <td>0.0</td>\n",
              "      <td>0.333</td>\n",
              "      <td>0.667</td>\n",
              "      <td>...</td>\n",
              "      <td>0</td>\n",
              "      <td>0</td>\n",
              "      <td>0</td>\n",
              "      <td>0</td>\n",
              "      <td>0</td>\n",
              "      <td>3</td>\n",
              "      <td>0</td>\n",
              "      <td>2</td>\n",
              "      <td>131</td>\n",
              "      <td>32</td>\n",
              "    </tr>\n",
              "  </tbody>\n",
              "</table>\n",
              "<p>5 rows × 26 columns</p>\n",
              "</div>"
            ],
            "text/plain": [
              "   PROSPECTID  Total_TL  Tot_Closed_TL  Tot_Active_TL  Total_TL_opened_L6M  \\\n",
              "0           1         5              4              1                    0   \n",
              "1           2         1              0              1                    0   \n",
              "2           3         8              0              8                    1   \n",
              "3           4         1              0              1                    1   \n",
              "4           5         3              2              1                    0   \n",
              "\n",
              "   Tot_TL_closed_L6M  pct_tl_open_L6M  pct_tl_closed_L6M  pct_active_tl  \\\n",
              "0                  0            0.000                0.0          0.200   \n",
              "1                  0            0.000                0.0          1.000   \n",
              "2                  0            0.125                0.0          1.000   \n",
              "3                  0            1.000                0.0          1.000   \n",
              "4                  0            0.000                0.0          0.333   \n",
              "\n",
              "   pct_closed_tl  ...  CC_TL  Consumer_TL  Gold_TL  Home_TL  PL_TL  \\\n",
              "0          0.800  ...      0            0        1        0      4   \n",
              "1          0.000  ...      0            1        0        0      0   \n",
              "2          0.000  ...      0            6        1        0      0   \n",
              "3          0.000  ...      0            0        0        0      0   \n",
              "4          0.667  ...      0            0        0        0      0   \n",
              "\n",
              "   Secured_TL  Unsecured_TL  Other_TL  Age_Oldest_TL  Age_Newest_TL  \n",
              "0           1             4         0             72             18  \n",
              "1           0             1         0              7              7  \n",
              "2           2             6         0             47              2  \n",
              "3           0             1         1              5              5  \n",
              "4           3             0         2            131             32  \n",
              "\n",
              "[5 rows x 26 columns]"
            ]
          },
          "execution_count": 5,
          "metadata": {},
          "output_type": "execute_result"
        }
      ],
      "source": [
        "df1.head()"
      ]
    },
    {
      "cell_type": "markdown",
      "metadata": {
        "id": "-pLH5ZVHMnUL"
      },
      "source": [
        "#bank's internal product dataset\n",
        "TL=termlines [ a loan account]\n",
        "total_tl=total loan accounts active\n",
        "\n",
        "total_tl_closed_l6m=total loan ccounts closed/ completed by customer in last 6 months\n",
        "\n",
        "pct_tl_open_l6m= percent of total TL opened in last 6 months\n",
        "\n",
        "secured_TL= loan with colateral\n",
        "\n",
        "unsecured_tl=loan without colateral [high intrest rates]\n"
      ]
    },
    {
      "cell_type": "code",
      "execution_count": 6,
      "metadata": {
        "colab": {
          "base_uri": "https://localhost:8080/",
          "height": 256
        },
        "id": "EQ4QNermMhP0",
        "outputId": "75555710-fdec-43ec-df04-79872376eaf7"
      },
      "outputs": [
        {
          "data": {
            "text/html": [
              "<div>\n",
              "<style scoped>\n",
              "    .dataframe tbody tr th:only-of-type {\n",
              "        vertical-align: middle;\n",
              "    }\n",
              "\n",
              "    .dataframe tbody tr th {\n",
              "        vertical-align: top;\n",
              "    }\n",
              "\n",
              "    .dataframe thead th {\n",
              "        text-align: right;\n",
              "    }\n",
              "</style>\n",
              "<table border=\"1\" class=\"dataframe\">\n",
              "  <thead>\n",
              "    <tr style=\"text-align: right;\">\n",
              "      <th></th>\n",
              "      <th>PROSPECTID</th>\n",
              "      <th>time_since_recent_payment</th>\n",
              "      <th>time_since_first_deliquency</th>\n",
              "      <th>time_since_recent_deliquency</th>\n",
              "      <th>num_times_delinquent</th>\n",
              "      <th>max_delinquency_level</th>\n",
              "      <th>max_recent_level_of_deliq</th>\n",
              "      <th>num_deliq_6mts</th>\n",
              "      <th>num_deliq_12mts</th>\n",
              "      <th>num_deliq_6_12mts</th>\n",
              "      <th>...</th>\n",
              "      <th>pct_CC_enq_L6m_of_L12m</th>\n",
              "      <th>pct_PL_enq_L6m_of_ever</th>\n",
              "      <th>pct_CC_enq_L6m_of_ever</th>\n",
              "      <th>max_unsec_exposure_inPct</th>\n",
              "      <th>HL_Flag</th>\n",
              "      <th>GL_Flag</th>\n",
              "      <th>last_prod_enq2</th>\n",
              "      <th>first_prod_enq2</th>\n",
              "      <th>Credit_Score</th>\n",
              "      <th>Approved_Flag</th>\n",
              "    </tr>\n",
              "  </thead>\n",
              "  <tbody>\n",
              "    <tr>\n",
              "      <th>0</th>\n",
              "      <td>1</td>\n",
              "      <td>549</td>\n",
              "      <td>35</td>\n",
              "      <td>15</td>\n",
              "      <td>11</td>\n",
              "      <td>29</td>\n",
              "      <td>29</td>\n",
              "      <td>0</td>\n",
              "      <td>0</td>\n",
              "      <td>0</td>\n",
              "      <td>...</td>\n",
              "      <td>0.0</td>\n",
              "      <td>0.0</td>\n",
              "      <td>0.0</td>\n",
              "      <td>13.333</td>\n",
              "      <td>1</td>\n",
              "      <td>0</td>\n",
              "      <td>PL</td>\n",
              "      <td>PL</td>\n",
              "      <td>696</td>\n",
              "      <td>P2</td>\n",
              "    </tr>\n",
              "    <tr>\n",
              "      <th>1</th>\n",
              "      <td>2</td>\n",
              "      <td>47</td>\n",
              "      <td>-99999</td>\n",
              "      <td>-99999</td>\n",
              "      <td>0</td>\n",
              "      <td>-99999</td>\n",
              "      <td>0</td>\n",
              "      <td>0</td>\n",
              "      <td>0</td>\n",
              "      <td>0</td>\n",
              "      <td>...</td>\n",
              "      <td>0.0</td>\n",
              "      <td>0.0</td>\n",
              "      <td>0.0</td>\n",
              "      <td>0.860</td>\n",
              "      <td>0</td>\n",
              "      <td>0</td>\n",
              "      <td>ConsumerLoan</td>\n",
              "      <td>ConsumerLoan</td>\n",
              "      <td>685</td>\n",
              "      <td>P2</td>\n",
              "    </tr>\n",
              "    <tr>\n",
              "      <th>2</th>\n",
              "      <td>3</td>\n",
              "      <td>302</td>\n",
              "      <td>11</td>\n",
              "      <td>3</td>\n",
              "      <td>9</td>\n",
              "      <td>25</td>\n",
              "      <td>25</td>\n",
              "      <td>1</td>\n",
              "      <td>9</td>\n",
              "      <td>8</td>\n",
              "      <td>...</td>\n",
              "      <td>0.0</td>\n",
              "      <td>0.0</td>\n",
              "      <td>0.0</td>\n",
              "      <td>5741.667</td>\n",
              "      <td>1</td>\n",
              "      <td>0</td>\n",
              "      <td>ConsumerLoan</td>\n",
              "      <td>others</td>\n",
              "      <td>693</td>\n",
              "      <td>P2</td>\n",
              "    </tr>\n",
              "    <tr>\n",
              "      <th>3</th>\n",
              "      <td>4</td>\n",
              "      <td>-99999</td>\n",
              "      <td>-99999</td>\n",
              "      <td>-99999</td>\n",
              "      <td>0</td>\n",
              "      <td>-99999</td>\n",
              "      <td>0</td>\n",
              "      <td>0</td>\n",
              "      <td>0</td>\n",
              "      <td>0</td>\n",
              "      <td>...</td>\n",
              "      <td>0.0</td>\n",
              "      <td>0.0</td>\n",
              "      <td>0.0</td>\n",
              "      <td>9.900</td>\n",
              "      <td>0</td>\n",
              "      <td>0</td>\n",
              "      <td>others</td>\n",
              "      <td>others</td>\n",
              "      <td>673</td>\n",
              "      <td>P2</td>\n",
              "    </tr>\n",
              "    <tr>\n",
              "      <th>4</th>\n",
              "      <td>5</td>\n",
              "      <td>583</td>\n",
              "      <td>-99999</td>\n",
              "      <td>-99999</td>\n",
              "      <td>0</td>\n",
              "      <td>-99999</td>\n",
              "      <td>0</td>\n",
              "      <td>0</td>\n",
              "      <td>0</td>\n",
              "      <td>0</td>\n",
              "      <td>...</td>\n",
              "      <td>0.0</td>\n",
              "      <td>0.0</td>\n",
              "      <td>0.0</td>\n",
              "      <td>-99999.000</td>\n",
              "      <td>0</td>\n",
              "      <td>0</td>\n",
              "      <td>AL</td>\n",
              "      <td>AL</td>\n",
              "      <td>753</td>\n",
              "      <td>P1</td>\n",
              "    </tr>\n",
              "  </tbody>\n",
              "</table>\n",
              "<p>5 rows × 62 columns</p>\n",
              "</div>"
            ],
            "text/plain": [
              "   PROSPECTID  time_since_recent_payment  time_since_first_deliquency  \\\n",
              "0           1                        549                           35   \n",
              "1           2                         47                       -99999   \n",
              "2           3                        302                           11   \n",
              "3           4                     -99999                       -99999   \n",
              "4           5                        583                       -99999   \n",
              "\n",
              "   time_since_recent_deliquency  num_times_delinquent  max_delinquency_level  \\\n",
              "0                            15                    11                     29   \n",
              "1                        -99999                     0                 -99999   \n",
              "2                             3                     9                     25   \n",
              "3                        -99999                     0                 -99999   \n",
              "4                        -99999                     0                 -99999   \n",
              "\n",
              "   max_recent_level_of_deliq  num_deliq_6mts  num_deliq_12mts  \\\n",
              "0                         29               0                0   \n",
              "1                          0               0                0   \n",
              "2                         25               1                9   \n",
              "3                          0               0                0   \n",
              "4                          0               0                0   \n",
              "\n",
              "   num_deliq_6_12mts  ...  pct_CC_enq_L6m_of_L12m  pct_PL_enq_L6m_of_ever  \\\n",
              "0                  0  ...                     0.0                     0.0   \n",
              "1                  0  ...                     0.0                     0.0   \n",
              "2                  8  ...                     0.0                     0.0   \n",
              "3                  0  ...                     0.0                     0.0   \n",
              "4                  0  ...                     0.0                     0.0   \n",
              "\n",
              "   pct_CC_enq_L6m_of_ever  max_unsec_exposure_inPct  HL_Flag  GL_Flag  \\\n",
              "0                     0.0                    13.333        1        0   \n",
              "1                     0.0                     0.860        0        0   \n",
              "2                     0.0                  5741.667        1        0   \n",
              "3                     0.0                     9.900        0        0   \n",
              "4                     0.0                -99999.000        0        0   \n",
              "\n",
              "   last_prod_enq2  first_prod_enq2  Credit_Score  Approved_Flag  \n",
              "0              PL               PL           696             P2  \n",
              "1    ConsumerLoan     ConsumerLoan           685             P2  \n",
              "2    ConsumerLoan           others           693             P2  \n",
              "3          others           others           673             P2  \n",
              "4              AL               AL           753             P1  \n",
              "\n",
              "[5 rows x 62 columns]"
            ]
          },
          "execution_count": 6,
          "metadata": {},
          "output_type": "execute_result"
        }
      ],
      "source": [
        "df2.head()"
      ]
    },
    {
      "cell_type": "markdown",
      "metadata": {
        "id": "MUD5rZ8ss5QD"
      },
      "source": [
        "#cibil data set\n",
        "deliquency =no of days a payment is overdue\n",
        "\n",
        "num_times_deliquent= kitne bar overdue hua hee\n",
        "\n",
        "max_deliquency=total no of months in deliquency\n",
        "\n",
        "cc_enq= credit card enquiries [more enquires no good]\n",
        "\n",
        "cc_utilization=which customer utilizes the card the most more utilization n ot good more utilization drops credit score\n",
        "\n",
        "num_std=number of standard payment  made i.e payment made on time\n",
        " num_sub= payment made late but not considered as npa as the customer will eventuallu pay the loan\n",
        "\n",
        "\n",
        " based on the feature target description file  categories:\n",
        "\n",
        " 30-41=deliquency data\n",
        "\n",
        " 42-50 =payment types-standard, substandard, doubtful\n",
        "\n",
        " 55-65=enquires :PP (personal loan), CC(credit card)\n",
        "\n",
        " 66-71= genral info on customer\n",
        "\n",
        " 72-82==CC utilization\n",
        "\n",
        " 83-89=check in file as  these are mixed\n",
        "\n",
        "\n",
        "\n"
      ]
    },
    {
      "cell_type": "code",
      "execution_count": 7,
      "metadata": {
        "id": "UK_ZppDb24qY"
      },
      "outputs": [],
      "source": [
        "import numpy as np\n",
        "import pandas as pd\n",
        "import matplotlib.pyplot as plt\n",
        "from sklearn.metrics import r2_score\n",
        "from scipy.stats import chi2_contingency\n",
        "from statsmodels.stats.outliers_influence import variance_inflation_factor\n",
        "from sklearn.model_selection import train_test_split\n",
        "from sklearn.ensemble import RandomForestClassifier\n",
        "from sklearn.metrics import accuracy_score, classification_report, precision_recall_fscore_support\n",
        "import warnings\n",
        "import os"
      ]
    },
    {
      "cell_type": "code",
      "execution_count": 8,
      "metadata": {
        "colab": {
          "base_uri": "https://localhost:8080/"
        },
        "id": "UMRT9WmzuRHY",
        "outputId": "8f068f62-114d-42f0-f505-d0e62dd0c923"
      },
      "outputs": [
        {
          "data": {
            "text/plain": [
              "(51336, 26)"
            ]
          },
          "execution_count": 8,
          "metadata": {},
          "output_type": "execute_result"
        }
      ],
      "source": [
        "df1.shape"
      ]
    },
    {
      "cell_type": "code",
      "execution_count": 9,
      "metadata": {
        "colab": {
          "base_uri": "https://localhost:8080/"
        },
        "id": "dTn8PGpvKdsv",
        "outputId": "f2ca84fd-ef05-404e-e548-ddcb2b5a5a60"
      },
      "outputs": [
        {
          "name": "stdout",
          "output_type": "stream",
          "text": [
            "<class 'pandas.core.frame.DataFrame'>\n",
            "RangeIndex: 51336 entries, 0 to 51335\n",
            "Data columns (total 26 columns):\n",
            " #   Column                Non-Null Count  Dtype  \n",
            "---  ------                --------------  -----  \n",
            " 0   PROSPECTID            51336 non-null  int64  \n",
            " 1   Total_TL              51336 non-null  int64  \n",
            " 2   Tot_Closed_TL         51336 non-null  int64  \n",
            " 3   Tot_Active_TL         51336 non-null  int64  \n",
            " 4   Total_TL_opened_L6M   51336 non-null  int64  \n",
            " 5   Tot_TL_closed_L6M     51336 non-null  int64  \n",
            " 6   pct_tl_open_L6M       51336 non-null  float64\n",
            " 7   pct_tl_closed_L6M     51336 non-null  float64\n",
            " 8   pct_active_tl         51336 non-null  float64\n",
            " 9   pct_closed_tl         51336 non-null  float64\n",
            " 10  Total_TL_opened_L12M  51336 non-null  int64  \n",
            " 11  Tot_TL_closed_L12M    51336 non-null  int64  \n",
            " 12  pct_tl_open_L12M      51336 non-null  float64\n",
            " 13  pct_tl_closed_L12M    51336 non-null  float64\n",
            " 14  Tot_Missed_Pmnt       51336 non-null  int64  \n",
            " 15  Auto_TL               51336 non-null  int64  \n",
            " 16  CC_TL                 51336 non-null  int64  \n",
            " 17  Consumer_TL           51336 non-null  int64  \n",
            " 18  Gold_TL               51336 non-null  int64  \n",
            " 19  Home_TL               51336 non-null  int64  \n",
            " 20  PL_TL                 51336 non-null  int64  \n",
            " 21  Secured_TL            51336 non-null  int64  \n",
            " 22  Unsecured_TL          51336 non-null  int64  \n",
            " 23  Other_TL              51336 non-null  int64  \n",
            " 24  Age_Oldest_TL         51336 non-null  int64  \n",
            " 25  Age_Newest_TL         51336 non-null  int64  \n",
            "dtypes: float64(6), int64(20)\n",
            "memory usage: 10.2 MB\n"
          ]
        }
      ],
      "source": [
        "df1.info()"
      ]
    },
    {
      "cell_type": "code",
      "execution_count": 10,
      "metadata": {
        "id": "srL7X2GfKhFt"
      },
      "outputs": [],
      "source": [
        "df1=df1.loc[df1['Age_Oldest_TL']!=-99999]"
      ]
    },
    {
      "cell_type": "code",
      "execution_count": 11,
      "metadata": {
        "colab": {
          "base_uri": "https://localhost:8080/"
        },
        "id": "ScjVDrUTLH9u",
        "outputId": "c85fa028-ea6b-4ed5-a999-3be905efaa8d"
      },
      "outputs": [
        {
          "data": {
            "text/plain": [
              "(51296, 26)"
            ]
          },
          "execution_count": 11,
          "metadata": {},
          "output_type": "execute_result"
        }
      ],
      "source": [
        "df1.shape"
      ]
    },
    {
      "cell_type": "code",
      "execution_count": 12,
      "metadata": {
        "id": "s7VQlkccLM-O"
      },
      "outputs": [],
      "source": [
        "df1=df1.loc[df1['Age_Newest_TL']!=99999]"
      ]
    },
    {
      "cell_type": "code",
      "execution_count": 13,
      "metadata": {
        "colab": {
          "base_uri": "https://localhost:8080/"
        },
        "id": "HenQKDe5Nohy",
        "outputId": "15eff905-1c08-40cf-ae98-81c2bd3e0fd4"
      },
      "outputs": [
        {
          "data": {
            "text/plain": [
              "(51296, 26)"
            ]
          },
          "execution_count": 13,
          "metadata": {},
          "output_type": "execute_result"
        }
      ],
      "source": [
        "df1.shape"
      ]
    },
    {
      "cell_type": "code",
      "execution_count": 14,
      "metadata": {
        "colab": {
          "base_uri": "https://localhost:8080/",
          "height": 256
        },
        "id": "T-0HqIIyO37M",
        "outputId": "2c82a426-cc2e-4c02-cbb7-38581a048dfb"
      },
      "outputs": [
        {
          "data": {
            "text/html": [
              "<div>\n",
              "<style scoped>\n",
              "    .dataframe tbody tr th:only-of-type {\n",
              "        vertical-align: middle;\n",
              "    }\n",
              "\n",
              "    .dataframe tbody tr th {\n",
              "        vertical-align: top;\n",
              "    }\n",
              "\n",
              "    .dataframe thead th {\n",
              "        text-align: right;\n",
              "    }\n",
              "</style>\n",
              "<table border=\"1\" class=\"dataframe\">\n",
              "  <thead>\n",
              "    <tr style=\"text-align: right;\">\n",
              "      <th></th>\n",
              "      <th>PROSPECTID</th>\n",
              "      <th>time_since_recent_payment</th>\n",
              "      <th>time_since_first_deliquency</th>\n",
              "      <th>time_since_recent_deliquency</th>\n",
              "      <th>num_times_delinquent</th>\n",
              "      <th>max_delinquency_level</th>\n",
              "      <th>max_recent_level_of_deliq</th>\n",
              "      <th>num_deliq_6mts</th>\n",
              "      <th>num_deliq_12mts</th>\n",
              "      <th>num_deliq_6_12mts</th>\n",
              "      <th>...</th>\n",
              "      <th>pct_CC_enq_L6m_of_L12m</th>\n",
              "      <th>pct_PL_enq_L6m_of_ever</th>\n",
              "      <th>pct_CC_enq_L6m_of_ever</th>\n",
              "      <th>max_unsec_exposure_inPct</th>\n",
              "      <th>HL_Flag</th>\n",
              "      <th>GL_Flag</th>\n",
              "      <th>last_prod_enq2</th>\n",
              "      <th>first_prod_enq2</th>\n",
              "      <th>Credit_Score</th>\n",
              "      <th>Approved_Flag</th>\n",
              "    </tr>\n",
              "  </thead>\n",
              "  <tbody>\n",
              "    <tr>\n",
              "      <th>0</th>\n",
              "      <td>1</td>\n",
              "      <td>549</td>\n",
              "      <td>35</td>\n",
              "      <td>15</td>\n",
              "      <td>11</td>\n",
              "      <td>29</td>\n",
              "      <td>29</td>\n",
              "      <td>0</td>\n",
              "      <td>0</td>\n",
              "      <td>0</td>\n",
              "      <td>...</td>\n",
              "      <td>0.0</td>\n",
              "      <td>0.0</td>\n",
              "      <td>0.0</td>\n",
              "      <td>13.333</td>\n",
              "      <td>1</td>\n",
              "      <td>0</td>\n",
              "      <td>PL</td>\n",
              "      <td>PL</td>\n",
              "      <td>696</td>\n",
              "      <td>P2</td>\n",
              "    </tr>\n",
              "    <tr>\n",
              "      <th>1</th>\n",
              "      <td>2</td>\n",
              "      <td>47</td>\n",
              "      <td>-99999</td>\n",
              "      <td>-99999</td>\n",
              "      <td>0</td>\n",
              "      <td>-99999</td>\n",
              "      <td>0</td>\n",
              "      <td>0</td>\n",
              "      <td>0</td>\n",
              "      <td>0</td>\n",
              "      <td>...</td>\n",
              "      <td>0.0</td>\n",
              "      <td>0.0</td>\n",
              "      <td>0.0</td>\n",
              "      <td>0.860</td>\n",
              "      <td>0</td>\n",
              "      <td>0</td>\n",
              "      <td>ConsumerLoan</td>\n",
              "      <td>ConsumerLoan</td>\n",
              "      <td>685</td>\n",
              "      <td>P2</td>\n",
              "    </tr>\n",
              "    <tr>\n",
              "      <th>2</th>\n",
              "      <td>3</td>\n",
              "      <td>302</td>\n",
              "      <td>11</td>\n",
              "      <td>3</td>\n",
              "      <td>9</td>\n",
              "      <td>25</td>\n",
              "      <td>25</td>\n",
              "      <td>1</td>\n",
              "      <td>9</td>\n",
              "      <td>8</td>\n",
              "      <td>...</td>\n",
              "      <td>0.0</td>\n",
              "      <td>0.0</td>\n",
              "      <td>0.0</td>\n",
              "      <td>5741.667</td>\n",
              "      <td>1</td>\n",
              "      <td>0</td>\n",
              "      <td>ConsumerLoan</td>\n",
              "      <td>others</td>\n",
              "      <td>693</td>\n",
              "      <td>P2</td>\n",
              "    </tr>\n",
              "    <tr>\n",
              "      <th>3</th>\n",
              "      <td>4</td>\n",
              "      <td>-99999</td>\n",
              "      <td>-99999</td>\n",
              "      <td>-99999</td>\n",
              "      <td>0</td>\n",
              "      <td>-99999</td>\n",
              "      <td>0</td>\n",
              "      <td>0</td>\n",
              "      <td>0</td>\n",
              "      <td>0</td>\n",
              "      <td>...</td>\n",
              "      <td>0.0</td>\n",
              "      <td>0.0</td>\n",
              "      <td>0.0</td>\n",
              "      <td>9.900</td>\n",
              "      <td>0</td>\n",
              "      <td>0</td>\n",
              "      <td>others</td>\n",
              "      <td>others</td>\n",
              "      <td>673</td>\n",
              "      <td>P2</td>\n",
              "    </tr>\n",
              "    <tr>\n",
              "      <th>4</th>\n",
              "      <td>5</td>\n",
              "      <td>583</td>\n",
              "      <td>-99999</td>\n",
              "      <td>-99999</td>\n",
              "      <td>0</td>\n",
              "      <td>-99999</td>\n",
              "      <td>0</td>\n",
              "      <td>0</td>\n",
              "      <td>0</td>\n",
              "      <td>0</td>\n",
              "      <td>...</td>\n",
              "      <td>0.0</td>\n",
              "      <td>0.0</td>\n",
              "      <td>0.0</td>\n",
              "      <td>-99999.000</td>\n",
              "      <td>0</td>\n",
              "      <td>0</td>\n",
              "      <td>AL</td>\n",
              "      <td>AL</td>\n",
              "      <td>753</td>\n",
              "      <td>P1</td>\n",
              "    </tr>\n",
              "  </tbody>\n",
              "</table>\n",
              "<p>5 rows × 62 columns</p>\n",
              "</div>"
            ],
            "text/plain": [
              "   PROSPECTID  time_since_recent_payment  time_since_first_deliquency  \\\n",
              "0           1                        549                           35   \n",
              "1           2                         47                       -99999   \n",
              "2           3                        302                           11   \n",
              "3           4                     -99999                       -99999   \n",
              "4           5                        583                       -99999   \n",
              "\n",
              "   time_since_recent_deliquency  num_times_delinquent  max_delinquency_level  \\\n",
              "0                            15                    11                     29   \n",
              "1                        -99999                     0                 -99999   \n",
              "2                             3                     9                     25   \n",
              "3                        -99999                     0                 -99999   \n",
              "4                        -99999                     0                 -99999   \n",
              "\n",
              "   max_recent_level_of_deliq  num_deliq_6mts  num_deliq_12mts  \\\n",
              "0                         29               0                0   \n",
              "1                          0               0                0   \n",
              "2                         25               1                9   \n",
              "3                          0               0                0   \n",
              "4                          0               0                0   \n",
              "\n",
              "   num_deliq_6_12mts  ...  pct_CC_enq_L6m_of_L12m  pct_PL_enq_L6m_of_ever  \\\n",
              "0                  0  ...                     0.0                     0.0   \n",
              "1                  0  ...                     0.0                     0.0   \n",
              "2                  8  ...                     0.0                     0.0   \n",
              "3                  0  ...                     0.0                     0.0   \n",
              "4                  0  ...                     0.0                     0.0   \n",
              "\n",
              "   pct_CC_enq_L6m_of_ever  max_unsec_exposure_inPct  HL_Flag  GL_Flag  \\\n",
              "0                     0.0                    13.333        1        0   \n",
              "1                     0.0                     0.860        0        0   \n",
              "2                     0.0                  5741.667        1        0   \n",
              "3                     0.0                     9.900        0        0   \n",
              "4                     0.0                -99999.000        0        0   \n",
              "\n",
              "   last_prod_enq2  first_prod_enq2  Credit_Score  Approved_Flag  \n",
              "0              PL               PL           696             P2  \n",
              "1    ConsumerLoan     ConsumerLoan           685             P2  \n",
              "2    ConsumerLoan           others           693             P2  \n",
              "3          others           others           673             P2  \n",
              "4              AL               AL           753             P1  \n",
              "\n",
              "[5 rows x 62 columns]"
            ]
          },
          "execution_count": 14,
          "metadata": {},
          "output_type": "execute_result"
        }
      ],
      "source": [
        "df2.head()"
      ]
    },
    {
      "cell_type": "markdown",
      "metadata": {
        "id": "sAOjj4oyO-uH"
      },
      "source": [
        "now df2 has much null values than expected so our approach will be :\n",
        "\n",
        "if the no of null values in a particular col is greater than 10000 we drop that column else if the no  of null values is less rtha 10000 we drop the rows\n",
        "\n",
        "we are not going to impute as there are certainn sensitive cols which can be filled based on other customers data"
      ]
    },
    {
      "cell_type": "code",
      "execution_count": 15,
      "metadata": {
        "colab": {
          "base_uri": "https://localhost:8080/"
        },
        "id": "4_6Fa292NqTQ",
        "outputId": "34d9d429-95eb-4239-d92f-b678d9bed9ca"
      },
      "outputs": [
        {
          "data": {
            "text/plain": [
              "['time_since_first_deliquency',\n",
              " 'time_since_recent_deliquency',\n",
              " 'max_delinquency_level',\n",
              " 'max_deliq_6mts',\n",
              " 'max_deliq_12mts',\n",
              " 'CC_utilization',\n",
              " 'PL_utilization',\n",
              " 'max_unsec_exposure_inPct']"
            ]
          },
          "execution_count": 15,
          "metadata": {},
          "output_type": "execute_result"
        }
      ],
      "source": [
        "columns_to_be_dropped=[]\n",
        "for col in df2.columns:\n",
        "  if df2.loc[df2[col] == -99999].shape[0]>10000:\n",
        "    columns_to_be_dropped.append(col)\n",
        "columns_to_be_dropped"
      ]
    },
    {
      "cell_type": "markdown",
      "metadata": {
        "id": "ZQ8PmwbRUi_M"
      },
      "source": [
        "droping the columns"
      ]
    },
    {
      "cell_type": "code",
      "execution_count": 16,
      "metadata": {
        "id": "tFZ7StrXQZ7w"
      },
      "outputs": [],
      "source": [
        "df2.drop(columns=columns_to_be_dropped,inplace=True) #df2.drop(colums_to_be dropped, axis=1) this can a;lso be used but inplace more efficient"
      ]
    },
    {
      "cell_type": "code",
      "execution_count": 17,
      "metadata": {
        "colab": {
          "base_uri": "https://localhost:8080/"
        },
        "id": "zVdAkleCURzB",
        "outputId": "f75bb333-2cca-4e63-a2bc-ac9214a18d3a"
      },
      "outputs": [
        {
          "data": {
            "text/plain": [
              "(51336, 54)"
            ]
          },
          "execution_count": 17,
          "metadata": {},
          "output_type": "execute_result"
        }
      ],
      "source": [
        "df2.shape"
      ]
    },
    {
      "cell_type": "markdown",
      "metadata": {
        "id": "_2u_den2UpdF"
      },
      "source": [
        "dropping the rows\n",
        "\n",
        "loc is a label-based data selecting method in Pandas. You can use it to select rows and columns from a DataFrame using their labels or a boolean array."
      ]
    },
    {
      "cell_type": "code",
      "execution_count": 18,
      "metadata": {
        "id": "-QlebYE1UYhz"
      },
      "outputs": [],
      "source": [
        "for i in df2.columns:\n",
        "  df2=df2.loc[df2[i]!=-99999]"
      ]
    },
    {
      "cell_type": "code",
      "execution_count": 19,
      "metadata": {
        "colab": {
          "base_uri": "https://localhost:8080/"
        },
        "id": "F7Z7Ze-CV_qy",
        "outputId": "cd1e41c2-ea36-4266-b6e9-f5d67a5c1057"
      },
      "outputs": [
        {
          "data": {
            "text/plain": [
              "(42066, 54)"
            ]
          },
          "execution_count": 19,
          "metadata": {},
          "output_type": "execute_result"
        }
      ],
      "source": [
        "df2.shape"
      ]
    },
    {
      "cell_type": "code",
      "execution_count": 20,
      "metadata": {
        "colab": {
          "base_uri": "https://localhost:8080/"
        },
        "id": "RXho3uNkWBWg",
        "outputId": "dc41db64-2936-4aec-8ff7-a86cd5b44659"
      },
      "outputs": [
        {
          "name": "stdout",
          "output_type": "stream",
          "text": [
            "PROSPECTID\n"
          ]
        }
      ],
      "source": [
        "for i in list(df1.columns):\n",
        "  if i in list(df2.columns):\n",
        "    print(i)"
      ]
    },
    {
      "cell_type": "markdown",
      "metadata": {
        "id": "q6cAZPu-bYfQ"
      },
      "source": [
        "now we will merge the df1 and df2 based on inner join as we mwill take intersection pf values of both dtaframe as we dont want nul values"
      ]
    },
    {
      "cell_type": "code",
      "execution_count": 21,
      "metadata": {
        "id": "fJZrn4lwbAFK"
      },
      "outputs": [],
      "source": [
        "df=pd.merge(df1,df2,how='inner',left_on='PROSPECTID',right_on='PROSPECTID')"
      ]
    },
    {
      "cell_type": "code",
      "execution_count": 22,
      "metadata": {
        "colab": {
          "base_uri": "https://localhost:8080/",
          "height": 256
        },
        "id": "fjk-QoGDcVU7",
        "outputId": "e5420d45-dcd3-46d1-fd4a-68f1b739c579"
      },
      "outputs": [
        {
          "data": {
            "text/html": [
              "<div>\n",
              "<style scoped>\n",
              "    .dataframe tbody tr th:only-of-type {\n",
              "        vertical-align: middle;\n",
              "    }\n",
              "\n",
              "    .dataframe tbody tr th {\n",
              "        vertical-align: top;\n",
              "    }\n",
              "\n",
              "    .dataframe thead th {\n",
              "        text-align: right;\n",
              "    }\n",
              "</style>\n",
              "<table border=\"1\" class=\"dataframe\">\n",
              "  <thead>\n",
              "    <tr style=\"text-align: right;\">\n",
              "      <th></th>\n",
              "      <th>PROSPECTID</th>\n",
              "      <th>Total_TL</th>\n",
              "      <th>Tot_Closed_TL</th>\n",
              "      <th>Tot_Active_TL</th>\n",
              "      <th>Total_TL_opened_L6M</th>\n",
              "      <th>Tot_TL_closed_L6M</th>\n",
              "      <th>pct_tl_open_L6M</th>\n",
              "      <th>pct_tl_closed_L6M</th>\n",
              "      <th>pct_active_tl</th>\n",
              "      <th>pct_closed_tl</th>\n",
              "      <th>...</th>\n",
              "      <th>pct_PL_enq_L6m_of_L12m</th>\n",
              "      <th>pct_CC_enq_L6m_of_L12m</th>\n",
              "      <th>pct_PL_enq_L6m_of_ever</th>\n",
              "      <th>pct_CC_enq_L6m_of_ever</th>\n",
              "      <th>HL_Flag</th>\n",
              "      <th>GL_Flag</th>\n",
              "      <th>last_prod_enq2</th>\n",
              "      <th>first_prod_enq2</th>\n",
              "      <th>Credit_Score</th>\n",
              "      <th>Approved_Flag</th>\n",
              "    </tr>\n",
              "  </thead>\n",
              "  <tbody>\n",
              "    <tr>\n",
              "      <th>0</th>\n",
              "      <td>1</td>\n",
              "      <td>5</td>\n",
              "      <td>4</td>\n",
              "      <td>1</td>\n",
              "      <td>0</td>\n",
              "      <td>0</td>\n",
              "      <td>0.000</td>\n",
              "      <td>0.0</td>\n",
              "      <td>0.200</td>\n",
              "      <td>0.800</td>\n",
              "      <td>...</td>\n",
              "      <td>0.0</td>\n",
              "      <td>0.0</td>\n",
              "      <td>0.000</td>\n",
              "      <td>0.0</td>\n",
              "      <td>1</td>\n",
              "      <td>0</td>\n",
              "      <td>PL</td>\n",
              "      <td>PL</td>\n",
              "      <td>696</td>\n",
              "      <td>P2</td>\n",
              "    </tr>\n",
              "    <tr>\n",
              "      <th>1</th>\n",
              "      <td>2</td>\n",
              "      <td>1</td>\n",
              "      <td>0</td>\n",
              "      <td>1</td>\n",
              "      <td>0</td>\n",
              "      <td>0</td>\n",
              "      <td>0.000</td>\n",
              "      <td>0.0</td>\n",
              "      <td>1.000</td>\n",
              "      <td>0.000</td>\n",
              "      <td>...</td>\n",
              "      <td>0.0</td>\n",
              "      <td>0.0</td>\n",
              "      <td>0.000</td>\n",
              "      <td>0.0</td>\n",
              "      <td>0</td>\n",
              "      <td>0</td>\n",
              "      <td>ConsumerLoan</td>\n",
              "      <td>ConsumerLoan</td>\n",
              "      <td>685</td>\n",
              "      <td>P2</td>\n",
              "    </tr>\n",
              "    <tr>\n",
              "      <th>2</th>\n",
              "      <td>3</td>\n",
              "      <td>8</td>\n",
              "      <td>0</td>\n",
              "      <td>8</td>\n",
              "      <td>1</td>\n",
              "      <td>0</td>\n",
              "      <td>0.125</td>\n",
              "      <td>0.0</td>\n",
              "      <td>1.000</td>\n",
              "      <td>0.000</td>\n",
              "      <td>...</td>\n",
              "      <td>0.0</td>\n",
              "      <td>0.0</td>\n",
              "      <td>0.000</td>\n",
              "      <td>0.0</td>\n",
              "      <td>1</td>\n",
              "      <td>0</td>\n",
              "      <td>ConsumerLoan</td>\n",
              "      <td>others</td>\n",
              "      <td>693</td>\n",
              "      <td>P2</td>\n",
              "    </tr>\n",
              "    <tr>\n",
              "      <th>3</th>\n",
              "      <td>5</td>\n",
              "      <td>3</td>\n",
              "      <td>2</td>\n",
              "      <td>1</td>\n",
              "      <td>0</td>\n",
              "      <td>0</td>\n",
              "      <td>0.000</td>\n",
              "      <td>0.0</td>\n",
              "      <td>0.333</td>\n",
              "      <td>0.667</td>\n",
              "      <td>...</td>\n",
              "      <td>0.0</td>\n",
              "      <td>0.0</td>\n",
              "      <td>0.000</td>\n",
              "      <td>0.0</td>\n",
              "      <td>0</td>\n",
              "      <td>0</td>\n",
              "      <td>AL</td>\n",
              "      <td>AL</td>\n",
              "      <td>753</td>\n",
              "      <td>P1</td>\n",
              "    </tr>\n",
              "    <tr>\n",
              "      <th>4</th>\n",
              "      <td>6</td>\n",
              "      <td>6</td>\n",
              "      <td>5</td>\n",
              "      <td>1</td>\n",
              "      <td>0</td>\n",
              "      <td>0</td>\n",
              "      <td>0.000</td>\n",
              "      <td>0.0</td>\n",
              "      <td>0.167</td>\n",
              "      <td>0.833</td>\n",
              "      <td>...</td>\n",
              "      <td>1.0</td>\n",
              "      <td>0.0</td>\n",
              "      <td>0.429</td>\n",
              "      <td>0.0</td>\n",
              "      <td>1</td>\n",
              "      <td>0</td>\n",
              "      <td>ConsumerLoan</td>\n",
              "      <td>PL</td>\n",
              "      <td>668</td>\n",
              "      <td>P3</td>\n",
              "    </tr>\n",
              "  </tbody>\n",
              "</table>\n",
              "<p>5 rows × 79 columns</p>\n",
              "</div>"
            ],
            "text/plain": [
              "   PROSPECTID  Total_TL  Tot_Closed_TL  Tot_Active_TL  Total_TL_opened_L6M  \\\n",
              "0           1         5              4              1                    0   \n",
              "1           2         1              0              1                    0   \n",
              "2           3         8              0              8                    1   \n",
              "3           5         3              2              1                    0   \n",
              "4           6         6              5              1                    0   \n",
              "\n",
              "   Tot_TL_closed_L6M  pct_tl_open_L6M  pct_tl_closed_L6M  pct_active_tl  \\\n",
              "0                  0            0.000                0.0          0.200   \n",
              "1                  0            0.000                0.0          1.000   \n",
              "2                  0            0.125                0.0          1.000   \n",
              "3                  0            0.000                0.0          0.333   \n",
              "4                  0            0.000                0.0          0.167   \n",
              "\n",
              "   pct_closed_tl  ...  pct_PL_enq_L6m_of_L12m  pct_CC_enq_L6m_of_L12m  \\\n",
              "0          0.800  ...                     0.0                     0.0   \n",
              "1          0.000  ...                     0.0                     0.0   \n",
              "2          0.000  ...                     0.0                     0.0   \n",
              "3          0.667  ...                     0.0                     0.0   \n",
              "4          0.833  ...                     1.0                     0.0   \n",
              "\n",
              "   pct_PL_enq_L6m_of_ever  pct_CC_enq_L6m_of_ever  HL_Flag  GL_Flag  \\\n",
              "0                   0.000                     0.0        1        0   \n",
              "1                   0.000                     0.0        0        0   \n",
              "2                   0.000                     0.0        1        0   \n",
              "3                   0.000                     0.0        0        0   \n",
              "4                   0.429                     0.0        1        0   \n",
              "\n",
              "   last_prod_enq2  first_prod_enq2  Credit_Score  Approved_Flag  \n",
              "0              PL               PL           696             P2  \n",
              "1    ConsumerLoan     ConsumerLoan           685             P2  \n",
              "2    ConsumerLoan           others           693             P2  \n",
              "3              AL               AL           753             P1  \n",
              "4    ConsumerLoan               PL           668             P3  \n",
              "\n",
              "[5 rows x 79 columns]"
            ]
          },
          "execution_count": 22,
          "metadata": {},
          "output_type": "execute_result"
        }
      ],
      "source": [
        "df.head()"
      ]
    },
    {
      "cell_type": "code",
      "execution_count": 23,
      "metadata": {
        "colab": {
          "base_uri": "https://localhost:8080/"
        },
        "id": "I26bpw64ce5q",
        "outputId": "504fab8b-8843-4383-aa9f-6ed3390e1a36"
      },
      "outputs": [
        {
          "data": {
            "text/plain": [
              "(42064, 79)"
            ]
          },
          "execution_count": 23,
          "metadata": {},
          "output_type": "execute_result"
        }
      ],
      "source": [
        "df.shape"
      ]
    },
    {
      "cell_type": "markdown",
      "metadata": {
        "id": "b52BGyiJhYY4"
      },
      "source": [
        "checking the no of columns with categorical value"
      ]
    },
    {
      "cell_type": "code",
      "execution_count": 24,
      "metadata": {
        "colab": {
          "base_uri": "https://localhost:8080/"
        },
        "id": "xI60Pi7Pcgxa",
        "outputId": "22f3e1fd-726a-495e-bb95-769604577d6a"
      },
      "outputs": [
        {
          "name": "stdout",
          "output_type": "stream",
          "text": [
            "MARITALSTATUS\n",
            "EDUCATION\n",
            "GENDER\n",
            "last_prod_enq2\n",
            "first_prod_enq2\n",
            "Approved_Flag\n"
          ]
        }
      ],
      "source": [
        "for i in df.columns:\n",
        "  if df[i].dtype=='object':\n",
        "    print(i)"
      ]
    },
    {
      "cell_type": "code",
      "execution_count": 25,
      "metadata": {
        "colab": {
          "base_uri": "https://localhost:8080/",
          "height": 178
        },
        "id": "TqfJ79XSh-8o",
        "outputId": "247b5b43-8936-4e3a-cf47-92eac840f004"
      },
      "outputs": [
        {
          "data": {
            "text/plain": [
              "MARITALSTATUS\n",
              "Married    30886\n",
              "Single     11178\n",
              "Name: count, dtype: int64"
            ]
          },
          "execution_count": 25,
          "metadata": {},
          "output_type": "execute_result"
        }
      ],
      "source": [
        "df['MARITALSTATUS'].value_counts()"
      ]
    },
    {
      "cell_type": "markdown",
      "metadata": {
        "id": "q8sadKFwnGsa"
      },
      "source": [
        "now to check whether is marital status is related to approved flag or not we will use hypothesiss testing under which we can use the:\n",
        "\n",
        "chisquare test , annova test ,t-test;\n",
        "\n",
        "\n",
        "#Hypothesis testing\n",
        "for two columns is a statistical method used to determine if there's a significant relationship or difference between the data in those columns.\n",
        "\n",
        "\n",
        "#how the hypothesis testing works:\n",
        "\n",
        "1.H0:null hypothesis:\n",
        "not associated\n",
        "\n",
        "2.H1: Alternate hypothesis:\n",
        "\n",
        "associated\n",
        "\n",
        "3.alpha(assumed):\n",
        "\n",
        "significance level,\n",
        "strictness level\n",
        ",margin error\n",
        "\n",
        "5%=0.05\n",
        "\n",
        "less risky project = high alpha\n",
        "less risky project-less alpha\n",
        "\n",
        "\n",
        "4.confidence interval\n",
        "\n",
        "1-alpha\n",
        "\n",
        "5.calculate the evidence against HO\n",
        "\n",
        "p-value [calculated using test chisquare , annova , t test ]\n",
        "\n",
        "6.p-value<= alpha [ reject H0 ]\n",
        "\n",
        "p-value> = alpha [fail to reject H0]\n",
        "\n"
      ]
    },
    {
      "cell_type": "markdown",
      "metadata": {
        "id": "5tOpxkL_sK12"
      },
      "source": [
        "Descriptive statistics summarizes the main characteristics of a dataset, while inferential statistics uses that data to make predictions or generalizations about a larger population.\n",
        "\n",
        "#Descriptive statistics describe the data you have. This includes things like:\n",
        "\n",
        "Measures of central tendency: mean, median, mode.\n",
        "\n",
        "Measures of spread: standard deviation, range, quartiles.\n",
        "\n",
        "#Inferential statistics allows you to infer information about a population based on a sample. This includes:\n",
        "\n",
        "Hypothesis testing: testing if a hypothesis about a population is true.\n",
        "\n",
        "Confidence intervals: estimating a range of values for a population parameter.\n",
        "\n",
        "Regression analysis: modeling the relationship between variables."
      ]
    },
    {
      "cell_type": "markdown",
      "metadata": {
        "id": "6kVPBS6B7S3k"
      },
      "source": [
        "chi square test : whem there are two categorical columns\n",
        "\n",
        "anova test : one numerical and one categorical and the no of categories are more than 3\n",
        "\n",
        "t test : when  no of categories are 2\n"
      ]
    },
    {
      "cell_type": "code",
      "execution_count": 26,
      "metadata": {
        "colab": {
          "base_uri": "https://localhost:8080/"
        },
        "id": "JO-yuK7oiMtX",
        "outputId": "c9e07ea5-4150-4082-97a0-1a05c49c508d"
      },
      "outputs": [
        {
          "name": "stdout",
          "output_type": "stream",
          "text": [
            "MARITALSTATUS --- 3.578180861038862e-233\n",
            "EDUCATION --- 2.6942265249737532e-30\n",
            "GENDER --- 1.907936100186563e-05\n",
            "last_prod_enq2 --- 0.0\n",
            "first_prod_enq2 --- 7.84997610555419e-287\n"
          ]
        }
      ],
      "source": [
        "#doing chi square test on categorical col to check whether they are important or not\n",
        "for i in ['MARITALSTATUS', 'EDUCATION', 'GENDER', 'last_prod_enq2', 'first_prod_enq2']:\n",
        "    chi2, pval, _, _ = chi2_contingency(pd.crosstab(df[i], df['Approved_Flag']))\n",
        "    print(i, '---', pval)"
      ]
    },
    {
      "cell_type": "markdown",
      "metadata": {
        "id": "Q635NmiF_uW_"
      },
      "source": [
        "here we get the p values and all are less than alpha thus we accept all of them thus we include all categorical value\n",
        "\n"
      ]
    },
    {
      "cell_type": "markdown",
      "metadata": {
        "id": "1FZm-zh3AYoO"
      },
      "source": [
        "#now analysis on numerical columns\n",
        "now we will check how each numerical col is associated with approved flag col using annova test as no of categories are more than  \n",
        "\n",
        "but before chwecking that we can check how the numerical col are interaleted among themselves via mullticollinearity"
      ]
    },
    {
      "cell_type": "code",
      "execution_count": 27,
      "metadata": {
        "id": "NUC0rqia_rls"
      },
      "outputs": [],
      "source": [
        "numerical_cols=[]\n",
        "for i in df.columns:\n",
        "  if df[i].dtype != 'object' and i not in ['PROSPECTID','Approved_Flag']:\n",
        "    numerical_cols.append(i)"
      ]
    },
    {
      "cell_type": "code",
      "execution_count": 28,
      "metadata": {
        "colab": {
          "base_uri": "https://localhost:8080/"
        },
        "id": "3rspY90aDTCM",
        "outputId": "4a785cdc-22d0-41d4-818d-8c7dcf8cdb44"
      },
      "outputs": [
        {
          "data": {
            "text/plain": [
              "72"
            ]
          },
          "execution_count": 28,
          "metadata": {},
          "output_type": "execute_result"
        }
      ],
      "source": [
        "numerical_cols\n",
        "len(numerical_cols)"
      ]
    },
    {
      "cell_type": "markdown",
      "metadata": {
        "id": "Ncly8jOZLu1v"
      },
      "source": [
        "#multicollinearity vs multicorellation vs featureimportance\n",
        "\n",
        "Correlation measures the linear relationship between two variables [input and output col ], while mutual information captures any kind of relationship, including non-linear ones.\n",
        "\n",
        "Correlation: How well can you fit a straight line to the relationship between two variables\n",
        "\n",
        " Feature importance from mutual information identifies how much information a feature provides about the target variable. Higher mutual information suggests a stronger relationship, making it a good candidate for feature selection.\n",
        "\n",
        " Multicollinearity: [between input cols]\n",
        "\n",
        " here we check how the input cols are related to each other ..if there are too much related to each other that no good for model reliability\n",
        "\n",
        "\n",
        "  Refers to a high correlation between two or more predictor variables in a regression model. This can make it difficult to determine the individual effect of each predictor on the outcome variable."
      ]
    },
    {
      "cell_type": "markdown",
      "metadata": {
        "id": "fK8cDVXhPeAf"
      },
      "source": [
        "#multicolinearity\n",
        "\n",
        "we calculate multicollineraity  using variance inflation factor\n",
        "\n",
        "VIF (Variance Inflation Factor) is a common way to detect multicollinearity in regression analysis.\n",
        "\n",
        "Here's how it works:\n",
        "\n",
        "Calculate VIF for each predictor variable. VIF quantifies how much the variance of a regression coefficient is inflated due to multicollinearity.\n",
        "Interpret VIF values.\n",
        "\n",
        "VIF = 1: No multicollinearity.\n",
        "\n",
        "VIF > 1: Some multicollinearity.\n",
        "\n",
        "VIF > 5 or 10: Potentially problematic multicollinearity.\n",
        "\n"
      ]
    },
    {
      "cell_type": "code",
      "execution_count": 29,
      "metadata": {
        "colab": {
          "base_uri": "https://localhost:8080/"
        },
        "id": "FvtNZ70sDVKe",
        "outputId": "4e47d51a-d4dc-41d2-d232-3b0d73e77d4c"
      },
      "outputs": [
        {
          "name": "stderr",
          "output_type": "stream",
          "text": [
            "c:\\Users\\kaust\\AppData\\Local\\Programs\\Python\\Python312\\Lib\\site-packages\\statsmodels\\stats\\outliers_influence.py:198: RuntimeWarning: divide by zero encountered in scalar divide\n",
            "  vif = 1. / (1. - r_squared_i)\n"
          ]
        },
        {
          "name": "stdout",
          "output_type": "stream",
          "text": [
            "0 --- inf\n"
          ]
        },
        {
          "name": "stderr",
          "output_type": "stream",
          "text": [
            "c:\\Users\\kaust\\AppData\\Local\\Programs\\Python\\Python312\\Lib\\site-packages\\statsmodels\\stats\\outliers_influence.py:198: RuntimeWarning: divide by zero encountered in scalar divide\n",
            "  vif = 1. / (1. - r_squared_i)\n"
          ]
        },
        {
          "name": "stdout",
          "output_type": "stream",
          "text": [
            "0 --- inf\n",
            "0 --- 11.320180023967996\n",
            "0 --- 8.363698035000327\n",
            "0 --- 6.520647877790928\n",
            "0 --- 5.149501618212625\n",
            "1 --- 2.611111040579735\n"
          ]
        },
        {
          "name": "stderr",
          "output_type": "stream",
          "text": [
            "c:\\Users\\kaust\\AppData\\Local\\Programs\\Python\\Python312\\Lib\\site-packages\\statsmodels\\stats\\outliers_influence.py:198: RuntimeWarning: divide by zero encountered in scalar divide\n",
            "  vif = 1. / (1. - r_squared_i)\n"
          ]
        },
        {
          "name": "stdout",
          "output_type": "stream",
          "text": [
            "2 --- inf\n",
            "2 --- 1788.7926256209232\n",
            "2 --- 8.601028256477228\n",
            "2 --- 3.8328007921530785\n",
            "3 --- 6.099653381646739\n",
            "3 --- 5.5813520096427585\n",
            "4 --- 1.985584353098778\n"
          ]
        },
        {
          "name": "stderr",
          "output_type": "stream",
          "text": [
            "c:\\Users\\kaust\\AppData\\Local\\Programs\\Python\\Python312\\Lib\\site-packages\\statsmodels\\stats\\outliers_influence.py:198: RuntimeWarning: divide by zero encountered in scalar divide\n",
            "  vif = 1. / (1. - r_squared_i)\n"
          ]
        },
        {
          "name": "stdout",
          "output_type": "stream",
          "text": [
            "5 --- inf\n",
            "5 --- 4.809538302819343\n",
            "6 --- 23.270628983464636\n",
            "6 --- 30.595522588100053\n",
            "6 --- 4.3843464059655854\n",
            "7 --- 3.0646584155234238\n",
            "8 --- 2.898639771299252\n",
            "9 --- 4.377876915347324\n",
            "10 --- 2.2078535836958433\n",
            "11 --- 4.916914200506864\n",
            "12 --- 5.214702030064725\n",
            "13 --- 3.3861625024231476\n",
            "14 --- 7.840583309478997\n",
            "14 --- 5.255034641721438\n"
          ]
        },
        {
          "name": "stderr",
          "output_type": "stream",
          "text": [
            "c:\\Users\\kaust\\AppData\\Local\\Programs\\Python\\Python312\\Lib\\site-packages\\statsmodels\\stats\\outliers_influence.py:198: RuntimeWarning: divide by zero encountered in scalar divide\n",
            "  vif = 1. / (1. - r_squared_i)\n"
          ]
        },
        {
          "name": "stdout",
          "output_type": "stream",
          "text": [
            "15 --- inf\n",
            "15 --- 7.380634506427232\n",
            "15 --- 1.421005001517573\n",
            "16 --- 8.083255010190323\n",
            "16 --- 1.624122752404011\n",
            "17 --- 7.257811920140003\n",
            "17 --- 15.59624383268298\n",
            "17 --- 1.825857047132431\n",
            "18 --- 1.5080839450032664\n",
            "19 --- 2.172088834824577\n",
            "20 --- 2.623397553527229\n",
            "21 --- 2.2959970812106176\n",
            "22 --- 7.360578319196439\n",
            "22 --- 2.1602387773102554\n",
            "23 --- 2.8686288267891467\n",
            "24 --- 6.458218003637272\n",
            "24 --- 2.8474118865638265\n",
            "25 --- 4.7531981562840855\n",
            "26 --- 16.22735475594825\n",
            "26 --- 6.424377256363877\n",
            "26 --- 8.887080381808687\n",
            "26 --- 2.3804746142952653\n",
            "27 --- 8.60951347651454\n",
            "27 --- 13.06755093547673\n",
            "27 --- 3.5000400566546555\n",
            "28 --- 1.9087955874813773\n",
            "29 --- 17.006562234161628\n",
            "29 --- 10.730485153719197\n",
            "29 --- 2.3538497522950275\n",
            "30 --- 22.104855915136433\n",
            "30 --- 2.7971639638512906\n",
            "31 --- 3.424171203217696\n",
            "32 --- 10.175021454450935\n",
            "32 --- 6.408710354561301\n",
            "32 --- 1.0011511962625619\n",
            "33 --- 3.069197305397274\n",
            "34 --- 2.8091261600643724\n",
            "35 --- 20.249538381980678\n",
            "35 --- 15.864576541593774\n",
            "35 --- 1.8331649740532163\n",
            "36 --- 1.5680839909542037\n",
            "37 --- 1.9307572353811677\n",
            "38 --- 4.331265056645247\n",
            "39 --- 9.390334396150173\n"
          ]
        }
      ],
      "source": [
        "# VIF sequentially check\n",
        "\n",
        "vif_data = df[numerical_cols]\n",
        "total_columns = vif_data.shape[1]\n",
        "columns_to_be_kept = []\n",
        "column_index = 0\n",
        "\n",
        "\n",
        "\n",
        "for i in range (0,total_columns):\n",
        "\n",
        "    vif_value = variance_inflation_factor(vif_data, column_index)\n",
        "    print (column_index,'---',vif_value)\n",
        "\n",
        "\n",
        "    if vif_value <= 6:\n",
        "        columns_to_be_kept.append( numerical_cols[i] )\n",
        "        column_index = column_index+1\n",
        "\n",
        "    else:\n",
        "        vif_data = vif_data.drop([ numerical_cols[i] ] , axis=1)"
      ]
    },
    {
      "cell_type": "markdown",
      "metadata": {
        "id": "53BsAJehUeGD"
      },
      "source": [
        "here we did a sequential vif check instead of parallel in parallel we check the collinearity of each with all the input cols ...in sequential once a particular col is rejected on basis of its calculateed vif score i.e if its vif score > 6 [ have much collinearity and is not good ] it is removed and is not considered or is not used when calulatinfg collinearity of othe cols."
      ]
    },
    {
      "cell_type": "code",
      "execution_count": 30,
      "metadata": {
        "colab": {
          "base_uri": "https://localhost:8080/"
        },
        "id": "_puWkfJgWu_p",
        "outputId": "942c7c04-e2d1-4a4d-b519-f12162180b06"
      },
      "outputs": [
        {
          "data": {
            "text/plain": [
              "39"
            ]
          },
          "execution_count": 30,
          "metadata": {},
          "output_type": "execute_result"
        }
      ],
      "source": [
        "columns_to_be_kept\n",
        "len(columns_to_be_kept)"
      ]
    },
    {
      "cell_type": "markdown",
      "metadata": {
        "id": "PZNMSlpYVsJC"
      },
      "source": [
        "# annova test[now input to output cols]\n",
        "\n"
      ]
    },
    {
      "cell_type": "code",
      "execution_count": 31,
      "metadata": {
        "id": "7fQNnE6_Vqvp"
      },
      "outputs": [],
      "source": [
        "from scipy.stats import f_oneway\n",
        "\n",
        "columns_to_be_kept_numerical = []\n",
        "\n",
        "for i in columns_to_be_kept:\n",
        "    a = list(df[i])\n",
        "    b = list(df['Approved_Flag'])\n",
        "\n",
        "    group_P1 = [value for value, group in zip(a, b) if group == 'P1']\n",
        "    group_P2 = [value for value, group in zip(a, b) if group == 'P2']\n",
        "    group_P3 = [value for value, group in zip(a, b) if group == 'P3']\n",
        "    group_P4 = [value for value, group in zip(a, b) if group == 'P4']\n",
        "\n",
        "\n",
        "    f_statistic, p_value = f_oneway(group_P1, group_P2, group_P3, group_P4)\n",
        "\n",
        "    if p_value <= 0.05:\n",
        "        columns_to_be_kept_numerical.append(i)"
      ]
    },
    {
      "cell_type": "code",
      "execution_count": 32,
      "metadata": {
        "colab": {
          "base_uri": "https://localhost:8080/"
        },
        "id": "B1fNuGsEUSZj",
        "outputId": "b2aacc8e-a9c7-4b31-afd6-ae1b2dbb2b6d"
      },
      "outputs": [
        {
          "data": {
            "text/plain": [
              "['pct_tl_open_L6M',\n",
              " 'pct_tl_closed_L6M',\n",
              " 'Tot_TL_closed_L12M',\n",
              " 'pct_tl_closed_L12M',\n",
              " 'Tot_Missed_Pmnt',\n",
              " 'CC_TL',\n",
              " 'Home_TL',\n",
              " 'PL_TL',\n",
              " 'Secured_TL',\n",
              " 'Unsecured_TL',\n",
              " 'Other_TL',\n",
              " 'Age_Oldest_TL',\n",
              " 'Age_Newest_TL',\n",
              " 'time_since_recent_payment',\n",
              " 'max_recent_level_of_deliq',\n",
              " 'num_deliq_6_12mts',\n",
              " 'num_times_60p_dpd',\n",
              " 'num_std_12mts',\n",
              " 'num_sub',\n",
              " 'num_sub_6mts',\n",
              " 'num_sub_12mts',\n",
              " 'num_dbt',\n",
              " 'num_dbt_12mts',\n",
              " 'num_lss',\n",
              " 'recent_level_of_deliq',\n",
              " 'CC_enq_L12m',\n",
              " 'PL_enq_L12m',\n",
              " 'time_since_recent_enq',\n",
              " 'enq_L3m',\n",
              " 'NETMONTHLYINCOME',\n",
              " 'Time_With_Curr_Empr',\n",
              " 'CC_Flag',\n",
              " 'PL_Flag',\n",
              " 'pct_PL_enq_L6m_of_ever',\n",
              " 'pct_CC_enq_L6m_of_ever',\n",
              " 'HL_Flag',\n",
              " 'GL_Flag']"
            ]
          },
          "execution_count": 32,
          "metadata": {},
          "output_type": "execute_result"
        }
      ],
      "source": [
        "columns_to_be_kept_numerical"
      ]
    },
    {
      "cell_type": "code",
      "execution_count": 33,
      "metadata": {
        "colab": {
          "base_uri": "https://localhost:8080/"
        },
        "id": "uhk6sFKsX-WT",
        "outputId": "c4881dd4-dc5d-4af6-f74e-4e779906fa9d"
      },
      "outputs": [
        {
          "data": {
            "text/plain": [
              "37"
            ]
          },
          "execution_count": 33,
          "metadata": {},
          "output_type": "execute_result"
        }
      ],
      "source": [
        "len(columns_to_be_kept_numerical)"
      ]
    },
    {
      "cell_type": "code",
      "execution_count": 34,
      "metadata": {
        "id": "aNDBXWB4YBBh"
      },
      "outputs": [],
      "source": [
        "features = columns_to_be_kept_numerical + ['MARITALSTATUS', 'EDUCATION', 'GENDER', 'last_prod_enq2', 'first_prod_enq2']\n",
        "df = df[features + ['Approved_Flag']]"
      ]
    },
    {
      "cell_type": "code",
      "execution_count": 35,
      "metadata": {
        "colab": {
          "base_uri": "https://localhost:8080/",
          "height": 273
        },
        "id": "UwCeHFIbi5jd",
        "outputId": "9f676ff3-78fc-4be2-ce57-26af46932da1"
      },
      "outputs": [
        {
          "data": {
            "text/html": [
              "<div>\n",
              "<style scoped>\n",
              "    .dataframe tbody tr th:only-of-type {\n",
              "        vertical-align: middle;\n",
              "    }\n",
              "\n",
              "    .dataframe tbody tr th {\n",
              "        vertical-align: top;\n",
              "    }\n",
              "\n",
              "    .dataframe thead th {\n",
              "        text-align: right;\n",
              "    }\n",
              "</style>\n",
              "<table border=\"1\" class=\"dataframe\">\n",
              "  <thead>\n",
              "    <tr style=\"text-align: right;\">\n",
              "      <th></th>\n",
              "      <th>pct_tl_open_L6M</th>\n",
              "      <th>pct_tl_closed_L6M</th>\n",
              "      <th>Tot_TL_closed_L12M</th>\n",
              "      <th>pct_tl_closed_L12M</th>\n",
              "      <th>Tot_Missed_Pmnt</th>\n",
              "      <th>CC_TL</th>\n",
              "      <th>Home_TL</th>\n",
              "      <th>PL_TL</th>\n",
              "      <th>Secured_TL</th>\n",
              "      <th>Unsecured_TL</th>\n",
              "      <th>...</th>\n",
              "      <th>pct_PL_enq_L6m_of_ever</th>\n",
              "      <th>pct_CC_enq_L6m_of_ever</th>\n",
              "      <th>HL_Flag</th>\n",
              "      <th>GL_Flag</th>\n",
              "      <th>MARITALSTATUS</th>\n",
              "      <th>EDUCATION</th>\n",
              "      <th>GENDER</th>\n",
              "      <th>last_prod_enq2</th>\n",
              "      <th>first_prod_enq2</th>\n",
              "      <th>Approved_Flag</th>\n",
              "    </tr>\n",
              "  </thead>\n",
              "  <tbody>\n",
              "    <tr>\n",
              "      <th>0</th>\n",
              "      <td>0.000</td>\n",
              "      <td>0.0</td>\n",
              "      <td>0</td>\n",
              "      <td>0.000</td>\n",
              "      <td>0</td>\n",
              "      <td>0</td>\n",
              "      <td>0</td>\n",
              "      <td>4</td>\n",
              "      <td>1</td>\n",
              "      <td>4</td>\n",
              "      <td>...</td>\n",
              "      <td>0.000</td>\n",
              "      <td>0.0</td>\n",
              "      <td>1</td>\n",
              "      <td>0</td>\n",
              "      <td>Married</td>\n",
              "      <td>12TH</td>\n",
              "      <td>M</td>\n",
              "      <td>PL</td>\n",
              "      <td>PL</td>\n",
              "      <td>P2</td>\n",
              "    </tr>\n",
              "    <tr>\n",
              "      <th>1</th>\n",
              "      <td>0.000</td>\n",
              "      <td>0.0</td>\n",
              "      <td>0</td>\n",
              "      <td>0.000</td>\n",
              "      <td>0</td>\n",
              "      <td>0</td>\n",
              "      <td>0</td>\n",
              "      <td>0</td>\n",
              "      <td>0</td>\n",
              "      <td>1</td>\n",
              "      <td>...</td>\n",
              "      <td>0.000</td>\n",
              "      <td>0.0</td>\n",
              "      <td>0</td>\n",
              "      <td>0</td>\n",
              "      <td>Single</td>\n",
              "      <td>GRADUATE</td>\n",
              "      <td>F</td>\n",
              "      <td>ConsumerLoan</td>\n",
              "      <td>ConsumerLoan</td>\n",
              "      <td>P2</td>\n",
              "    </tr>\n",
              "    <tr>\n",
              "      <th>2</th>\n",
              "      <td>0.125</td>\n",
              "      <td>0.0</td>\n",
              "      <td>0</td>\n",
              "      <td>0.000</td>\n",
              "      <td>1</td>\n",
              "      <td>0</td>\n",
              "      <td>0</td>\n",
              "      <td>0</td>\n",
              "      <td>2</td>\n",
              "      <td>6</td>\n",
              "      <td>...</td>\n",
              "      <td>0.000</td>\n",
              "      <td>0.0</td>\n",
              "      <td>1</td>\n",
              "      <td>0</td>\n",
              "      <td>Married</td>\n",
              "      <td>SSC</td>\n",
              "      <td>M</td>\n",
              "      <td>ConsumerLoan</td>\n",
              "      <td>others</td>\n",
              "      <td>P2</td>\n",
              "    </tr>\n",
              "    <tr>\n",
              "      <th>3</th>\n",
              "      <td>0.000</td>\n",
              "      <td>0.0</td>\n",
              "      <td>0</td>\n",
              "      <td>0.000</td>\n",
              "      <td>0</td>\n",
              "      <td>0</td>\n",
              "      <td>0</td>\n",
              "      <td>0</td>\n",
              "      <td>3</td>\n",
              "      <td>0</td>\n",
              "      <td>...</td>\n",
              "      <td>0.000</td>\n",
              "      <td>0.0</td>\n",
              "      <td>0</td>\n",
              "      <td>0</td>\n",
              "      <td>Married</td>\n",
              "      <td>POST-GRADUATE</td>\n",
              "      <td>M</td>\n",
              "      <td>AL</td>\n",
              "      <td>AL</td>\n",
              "      <td>P1</td>\n",
              "    </tr>\n",
              "    <tr>\n",
              "      <th>4</th>\n",
              "      <td>0.000</td>\n",
              "      <td>0.0</td>\n",
              "      <td>1</td>\n",
              "      <td>0.167</td>\n",
              "      <td>0</td>\n",
              "      <td>0</td>\n",
              "      <td>0</td>\n",
              "      <td>0</td>\n",
              "      <td>6</td>\n",
              "      <td>0</td>\n",
              "      <td>...</td>\n",
              "      <td>0.429</td>\n",
              "      <td>0.0</td>\n",
              "      <td>1</td>\n",
              "      <td>0</td>\n",
              "      <td>Married</td>\n",
              "      <td>12TH</td>\n",
              "      <td>M</td>\n",
              "      <td>ConsumerLoan</td>\n",
              "      <td>PL</td>\n",
              "      <td>P3</td>\n",
              "    </tr>\n",
              "  </tbody>\n",
              "</table>\n",
              "<p>5 rows × 43 columns</p>\n",
              "</div>"
            ],
            "text/plain": [
              "   pct_tl_open_L6M  pct_tl_closed_L6M  Tot_TL_closed_L12M  pct_tl_closed_L12M  \\\n",
              "0            0.000                0.0                   0               0.000   \n",
              "1            0.000                0.0                   0               0.000   \n",
              "2            0.125                0.0                   0               0.000   \n",
              "3            0.000                0.0                   0               0.000   \n",
              "4            0.000                0.0                   1               0.167   \n",
              "\n",
              "   Tot_Missed_Pmnt  CC_TL  Home_TL  PL_TL  Secured_TL  Unsecured_TL  ...  \\\n",
              "0                0      0        0      4           1             4  ...   \n",
              "1                0      0        0      0           0             1  ...   \n",
              "2                1      0        0      0           2             6  ...   \n",
              "3                0      0        0      0           3             0  ...   \n",
              "4                0      0        0      0           6             0  ...   \n",
              "\n",
              "   pct_PL_enq_L6m_of_ever  pct_CC_enq_L6m_of_ever  HL_Flag  GL_Flag  \\\n",
              "0                   0.000                     0.0        1        0   \n",
              "1                   0.000                     0.0        0        0   \n",
              "2                   0.000                     0.0        1        0   \n",
              "3                   0.000                     0.0        0        0   \n",
              "4                   0.429                     0.0        1        0   \n",
              "\n",
              "   MARITALSTATUS      EDUCATION  GENDER  last_prod_enq2  first_prod_enq2  \\\n",
              "0        Married           12TH       M              PL               PL   \n",
              "1         Single       GRADUATE       F    ConsumerLoan     ConsumerLoan   \n",
              "2        Married            SSC       M    ConsumerLoan           others   \n",
              "3        Married  POST-GRADUATE       M              AL               AL   \n",
              "4        Married           12TH       M    ConsumerLoan               PL   \n",
              "\n",
              "   Approved_Flag  \n",
              "0             P2  \n",
              "1             P2  \n",
              "2             P2  \n",
              "3             P1  \n",
              "4             P3  \n",
              "\n",
              "[5 rows x 43 columns]"
            ]
          },
          "execution_count": 35,
          "metadata": {},
          "output_type": "execute_result"
        }
      ],
      "source": [
        "df.head()"
      ]
    },
    {
      "cell_type": "code",
      "execution_count": 36,
      "metadata": {
        "id": "WQU872O_i7_m"
      },
      "outputs": [],
      "source": [
        "df.to_csv('final_dataset_v1.csv')"
      ]
    },
    {
      "cell_type": "code",
      "execution_count": 37,
      "metadata": {
        "colab": {
          "base_uri": "https://localhost:8080/"
        },
        "id": "1DHAAdGLjSap",
        "outputId": "f030e3f6-392d-4cf7-92d4-061e2cc517f6"
      },
      "outputs": [
        {
          "data": {
            "text/plain": [
              "(42064, 43)"
            ]
          },
          "execution_count": 37,
          "metadata": {},
          "output_type": "execute_result"
        }
      ],
      "source": [
        "df.shape\n"
      ]
    },
    {
      "cell_type": "code",
      "execution_count": 38,
      "metadata": {
        "colab": {
          "base_uri": "https://localhost:8080/",
          "height": 273
        },
        "id": "fMZUm_J7MnZt",
        "outputId": "7cf35133-30bc-4ce7-ea01-429298caf1c3"
      },
      "outputs": [
        {
          "data": {
            "text/html": [
              "<div>\n",
              "<style scoped>\n",
              "    .dataframe tbody tr th:only-of-type {\n",
              "        vertical-align: middle;\n",
              "    }\n",
              "\n",
              "    .dataframe tbody tr th {\n",
              "        vertical-align: top;\n",
              "    }\n",
              "\n",
              "    .dataframe thead th {\n",
              "        text-align: right;\n",
              "    }\n",
              "</style>\n",
              "<table border=\"1\" class=\"dataframe\">\n",
              "  <thead>\n",
              "    <tr style=\"text-align: right;\">\n",
              "      <th></th>\n",
              "      <th>pct_tl_open_L6M</th>\n",
              "      <th>pct_tl_closed_L6M</th>\n",
              "      <th>Tot_TL_closed_L12M</th>\n",
              "      <th>pct_tl_closed_L12M</th>\n",
              "      <th>Tot_Missed_Pmnt</th>\n",
              "      <th>CC_TL</th>\n",
              "      <th>Home_TL</th>\n",
              "      <th>PL_TL</th>\n",
              "      <th>Secured_TL</th>\n",
              "      <th>Unsecured_TL</th>\n",
              "      <th>...</th>\n",
              "      <th>pct_PL_enq_L6m_of_ever</th>\n",
              "      <th>pct_CC_enq_L6m_of_ever</th>\n",
              "      <th>HL_Flag</th>\n",
              "      <th>GL_Flag</th>\n",
              "      <th>MARITALSTATUS</th>\n",
              "      <th>EDUCATION</th>\n",
              "      <th>GENDER</th>\n",
              "      <th>last_prod_enq2</th>\n",
              "      <th>first_prod_enq2</th>\n",
              "      <th>Approved_Flag</th>\n",
              "    </tr>\n",
              "  </thead>\n",
              "  <tbody>\n",
              "    <tr>\n",
              "      <th>0</th>\n",
              "      <td>0.000</td>\n",
              "      <td>0.0</td>\n",
              "      <td>0</td>\n",
              "      <td>0.000</td>\n",
              "      <td>0</td>\n",
              "      <td>0</td>\n",
              "      <td>0</td>\n",
              "      <td>4</td>\n",
              "      <td>1</td>\n",
              "      <td>4</td>\n",
              "      <td>...</td>\n",
              "      <td>0.000</td>\n",
              "      <td>0.0</td>\n",
              "      <td>1</td>\n",
              "      <td>0</td>\n",
              "      <td>Married</td>\n",
              "      <td>12TH</td>\n",
              "      <td>M</td>\n",
              "      <td>PL</td>\n",
              "      <td>PL</td>\n",
              "      <td>P2</td>\n",
              "    </tr>\n",
              "    <tr>\n",
              "      <th>1</th>\n",
              "      <td>0.000</td>\n",
              "      <td>0.0</td>\n",
              "      <td>0</td>\n",
              "      <td>0.000</td>\n",
              "      <td>0</td>\n",
              "      <td>0</td>\n",
              "      <td>0</td>\n",
              "      <td>0</td>\n",
              "      <td>0</td>\n",
              "      <td>1</td>\n",
              "      <td>...</td>\n",
              "      <td>0.000</td>\n",
              "      <td>0.0</td>\n",
              "      <td>0</td>\n",
              "      <td>0</td>\n",
              "      <td>Single</td>\n",
              "      <td>GRADUATE</td>\n",
              "      <td>F</td>\n",
              "      <td>ConsumerLoan</td>\n",
              "      <td>ConsumerLoan</td>\n",
              "      <td>P2</td>\n",
              "    </tr>\n",
              "    <tr>\n",
              "      <th>2</th>\n",
              "      <td>0.125</td>\n",
              "      <td>0.0</td>\n",
              "      <td>0</td>\n",
              "      <td>0.000</td>\n",
              "      <td>1</td>\n",
              "      <td>0</td>\n",
              "      <td>0</td>\n",
              "      <td>0</td>\n",
              "      <td>2</td>\n",
              "      <td>6</td>\n",
              "      <td>...</td>\n",
              "      <td>0.000</td>\n",
              "      <td>0.0</td>\n",
              "      <td>1</td>\n",
              "      <td>0</td>\n",
              "      <td>Married</td>\n",
              "      <td>SSC</td>\n",
              "      <td>M</td>\n",
              "      <td>ConsumerLoan</td>\n",
              "      <td>others</td>\n",
              "      <td>P2</td>\n",
              "    </tr>\n",
              "    <tr>\n",
              "      <th>3</th>\n",
              "      <td>0.000</td>\n",
              "      <td>0.0</td>\n",
              "      <td>0</td>\n",
              "      <td>0.000</td>\n",
              "      <td>0</td>\n",
              "      <td>0</td>\n",
              "      <td>0</td>\n",
              "      <td>0</td>\n",
              "      <td>3</td>\n",
              "      <td>0</td>\n",
              "      <td>...</td>\n",
              "      <td>0.000</td>\n",
              "      <td>0.0</td>\n",
              "      <td>0</td>\n",
              "      <td>0</td>\n",
              "      <td>Married</td>\n",
              "      <td>POST-GRADUATE</td>\n",
              "      <td>M</td>\n",
              "      <td>AL</td>\n",
              "      <td>AL</td>\n",
              "      <td>P1</td>\n",
              "    </tr>\n",
              "    <tr>\n",
              "      <th>4</th>\n",
              "      <td>0.000</td>\n",
              "      <td>0.0</td>\n",
              "      <td>1</td>\n",
              "      <td>0.167</td>\n",
              "      <td>0</td>\n",
              "      <td>0</td>\n",
              "      <td>0</td>\n",
              "      <td>0</td>\n",
              "      <td>6</td>\n",
              "      <td>0</td>\n",
              "      <td>...</td>\n",
              "      <td>0.429</td>\n",
              "      <td>0.0</td>\n",
              "      <td>1</td>\n",
              "      <td>0</td>\n",
              "      <td>Married</td>\n",
              "      <td>12TH</td>\n",
              "      <td>M</td>\n",
              "      <td>ConsumerLoan</td>\n",
              "      <td>PL</td>\n",
              "      <td>P3</td>\n",
              "    </tr>\n",
              "  </tbody>\n",
              "</table>\n",
              "<p>5 rows × 43 columns</p>\n",
              "</div>"
            ],
            "text/plain": [
              "   pct_tl_open_L6M  pct_tl_closed_L6M  Tot_TL_closed_L12M  pct_tl_closed_L12M  \\\n",
              "0            0.000                0.0                   0               0.000   \n",
              "1            0.000                0.0                   0               0.000   \n",
              "2            0.125                0.0                   0               0.000   \n",
              "3            0.000                0.0                   0               0.000   \n",
              "4            0.000                0.0                   1               0.167   \n",
              "\n",
              "   Tot_Missed_Pmnt  CC_TL  Home_TL  PL_TL  Secured_TL  Unsecured_TL  ...  \\\n",
              "0                0      0        0      4           1             4  ...   \n",
              "1                0      0        0      0           0             1  ...   \n",
              "2                1      0        0      0           2             6  ...   \n",
              "3                0      0        0      0           3             0  ...   \n",
              "4                0      0        0      0           6             0  ...   \n",
              "\n",
              "   pct_PL_enq_L6m_of_ever  pct_CC_enq_L6m_of_ever  HL_Flag  GL_Flag  \\\n",
              "0                   0.000                     0.0        1        0   \n",
              "1                   0.000                     0.0        0        0   \n",
              "2                   0.000                     0.0        1        0   \n",
              "3                   0.000                     0.0        0        0   \n",
              "4                   0.429                     0.0        1        0   \n",
              "\n",
              "   MARITALSTATUS      EDUCATION  GENDER  last_prod_enq2  first_prod_enq2  \\\n",
              "0        Married           12TH       M              PL               PL   \n",
              "1         Single       GRADUATE       F    ConsumerLoan     ConsumerLoan   \n",
              "2        Married            SSC       M    ConsumerLoan           others   \n",
              "3        Married  POST-GRADUATE       M              AL               AL   \n",
              "4        Married           12TH       M    ConsumerLoan               PL   \n",
              "\n",
              "   Approved_Flag  \n",
              "0             P2  \n",
              "1             P2  \n",
              "2             P2  \n",
              "3             P1  \n",
              "4             P3  \n",
              "\n",
              "[5 rows x 43 columns]"
            ]
          },
          "execution_count": 38,
          "metadata": {},
          "output_type": "execute_result"
        }
      ],
      "source": [
        "df.head()\n"
      ]
    },
    {
      "cell_type": "markdown",
      "metadata": {
        "id": "cwcq3vcKVcGy"
      },
      "source": [
        "in chi square test if the p value is less than alpaha then strong connection\n",
        "in chisquare contigency table os used nad annova f statistics table is used"
      ]
    },
    {
      "cell_type": "code",
      "execution_count": 39,
      "metadata": {
        "id": "VNZyUrpnjMWV"
      },
      "outputs": [],
      "source": [
        "# #encoding the categorical value\n",
        "# ordinal and one hot encoding\n",
        "# now we will apply ordinal encoding education coll as it has hierarchy and one hot encoding for all other"
      ]
    },
    {
      "cell_type": "code",
      "execution_count": 40,
      "metadata": {
        "colab": {
          "base_uri": "https://localhost:8080/",
          "height": 335
        },
        "id": "rgTE9qnXNcms",
        "outputId": "fb75ba83-a70d-4720-dafb-4efd9705e0ab"
      },
      "outputs": [
        {
          "data": {
            "text/plain": [
              "EDUCATION\n",
              "GRADUATE          14140\n",
              "12TH              11703\n",
              "SSC                7241\n",
              "UNDER GRADUATE     4572\n",
              "OTHERS             2291\n",
              "POST-GRADUATE      1898\n",
              "PROFESSIONAL        219\n",
              "Name: count, dtype: int64"
            ]
          },
          "execution_count": 40,
          "metadata": {},
          "output_type": "execute_result"
        }
      ],
      "source": [
        "df['EDUCATION'].value_counts()"
      ]
    },
    {
      "cell_type": "code",
      "execution_count": 41,
      "metadata": {
        "id": "ewWXGKK2FQKM"
      },
      "outputs": [],
      "source": [
        "df1=df"
      ]
    },
    {
      "cell_type": "code",
      "execution_count": null,
      "metadata": {
        "id": "GLdXbvcQFmLo"
      },
      "outputs": [],
      "source": []
    },
    {
      "cell_type": "code",
      "execution_count": null,
      "metadata": {
        "id": "PAiOJi6fFk7y"
      },
      "outputs": [],
      "source": []
    },
    {
      "cell_type": "code",
      "execution_count": 42,
      "metadata": {
        "colab": {
          "base_uri": "https://localhost:8080/"
        },
        "id": "sG9EzdaUmegr",
        "outputId": "1957cf49-79fc-4f32-a72a-84bc0e284753"
      },
      "outputs": [
        {
          "data": {
            "text/plain": [
              "array(['12TH', 'GRADUATE', 'SSC', 'POST-GRADUATE', 'UNDER GRADUATE',\n",
              "       'OTHERS', 'PROFESSIONAL'], dtype=object)"
            ]
          },
          "execution_count": 42,
          "metadata": {},
          "output_type": "execute_result"
        }
      ],
      "source": [
        "df['EDUCATION'].unique()"
      ]
    },
    {
      "cell_type": "code",
      "execution_count": 43,
      "metadata": {
        "id": "W3Gg0fj3mp6p"
      },
      "outputs": [],
      "source": [
        "#import pandas as pd\n",
        "\n",
        "# Assuming your DataFrame is named 'df' and has an 'EDUCATION' column\n",
        "\n",
        "# Create a dictionary mapping education levels to ordinal values\n",
        "education_mapping = {\n",
        "    '12TH':2, 'GRADUATE':3, 'SSC':1, 'POST-GRADUATE':4, 'UNDER GRADUATE':3,\n",
        "       'OTHERS':1, 'PROFESSIONAL':3\n",
        "}\n",
        "\n",
        "# Apply the mapping to the 'EDUCATION' column using map()\n",
        "df['EDUCATION'] = df['EDUCATION'].map(education_mapping)\n",
        "\n",
        "# Now, create the OrdinalEncoder and fit_transform using the numerical values.\n",
        "# ordinal_encoder = OrdinalEncoder(categories=[list(education_mapping.values())])  # Order of categories\n",
        "# df['EDUCATION'] = ordinal_encoder.fit_transform(df[['EDUCATION']])\n",
        "\n",
        "\n",
        "\n",
        "# Now you have a new column 'EDUCATION_encoded' with ordinal values"
      ]
    },
    {
      "cell_type": "code",
      "execution_count": 44,
      "metadata": {
        "colab": {
          "base_uri": "https://localhost:8080/",
          "height": 256
        },
        "id": "vXAm-_4znvc5",
        "outputId": "e74c45ea-793c-48ae-8d5d-e5110a832706"
      },
      "outputs": [
        {
          "data": {
            "text/html": [
              "<div>\n",
              "<style scoped>\n",
              "    .dataframe tbody tr th:only-of-type {\n",
              "        vertical-align: middle;\n",
              "    }\n",
              "\n",
              "    .dataframe tbody tr th {\n",
              "        vertical-align: top;\n",
              "    }\n",
              "\n",
              "    .dataframe thead th {\n",
              "        text-align: right;\n",
              "    }\n",
              "</style>\n",
              "<table border=\"1\" class=\"dataframe\">\n",
              "  <thead>\n",
              "    <tr style=\"text-align: right;\">\n",
              "      <th></th>\n",
              "      <th>pct_tl_open_L6M</th>\n",
              "      <th>pct_tl_closed_L6M</th>\n",
              "      <th>Tot_TL_closed_L12M</th>\n",
              "      <th>pct_tl_closed_L12M</th>\n",
              "      <th>Tot_Missed_Pmnt</th>\n",
              "      <th>CC_TL</th>\n",
              "      <th>Home_TL</th>\n",
              "      <th>PL_TL</th>\n",
              "      <th>Secured_TL</th>\n",
              "      <th>Unsecured_TL</th>\n",
              "      <th>...</th>\n",
              "      <th>pct_PL_enq_L6m_of_ever</th>\n",
              "      <th>pct_CC_enq_L6m_of_ever</th>\n",
              "      <th>HL_Flag</th>\n",
              "      <th>GL_Flag</th>\n",
              "      <th>MARITALSTATUS</th>\n",
              "      <th>EDUCATION</th>\n",
              "      <th>GENDER</th>\n",
              "      <th>last_prod_enq2</th>\n",
              "      <th>first_prod_enq2</th>\n",
              "      <th>Approved_Flag</th>\n",
              "    </tr>\n",
              "  </thead>\n",
              "  <tbody>\n",
              "    <tr>\n",
              "      <th>0</th>\n",
              "      <td>0.000</td>\n",
              "      <td>0.0</td>\n",
              "      <td>0</td>\n",
              "      <td>0.000</td>\n",
              "      <td>0</td>\n",
              "      <td>0</td>\n",
              "      <td>0</td>\n",
              "      <td>4</td>\n",
              "      <td>1</td>\n",
              "      <td>4</td>\n",
              "      <td>...</td>\n",
              "      <td>0.000</td>\n",
              "      <td>0.0</td>\n",
              "      <td>1</td>\n",
              "      <td>0</td>\n",
              "      <td>Married</td>\n",
              "      <td>2</td>\n",
              "      <td>M</td>\n",
              "      <td>PL</td>\n",
              "      <td>PL</td>\n",
              "      <td>P2</td>\n",
              "    </tr>\n",
              "    <tr>\n",
              "      <th>1</th>\n",
              "      <td>0.000</td>\n",
              "      <td>0.0</td>\n",
              "      <td>0</td>\n",
              "      <td>0.000</td>\n",
              "      <td>0</td>\n",
              "      <td>0</td>\n",
              "      <td>0</td>\n",
              "      <td>0</td>\n",
              "      <td>0</td>\n",
              "      <td>1</td>\n",
              "      <td>...</td>\n",
              "      <td>0.000</td>\n",
              "      <td>0.0</td>\n",
              "      <td>0</td>\n",
              "      <td>0</td>\n",
              "      <td>Single</td>\n",
              "      <td>3</td>\n",
              "      <td>F</td>\n",
              "      <td>ConsumerLoan</td>\n",
              "      <td>ConsumerLoan</td>\n",
              "      <td>P2</td>\n",
              "    </tr>\n",
              "    <tr>\n",
              "      <th>2</th>\n",
              "      <td>0.125</td>\n",
              "      <td>0.0</td>\n",
              "      <td>0</td>\n",
              "      <td>0.000</td>\n",
              "      <td>1</td>\n",
              "      <td>0</td>\n",
              "      <td>0</td>\n",
              "      <td>0</td>\n",
              "      <td>2</td>\n",
              "      <td>6</td>\n",
              "      <td>...</td>\n",
              "      <td>0.000</td>\n",
              "      <td>0.0</td>\n",
              "      <td>1</td>\n",
              "      <td>0</td>\n",
              "      <td>Married</td>\n",
              "      <td>1</td>\n",
              "      <td>M</td>\n",
              "      <td>ConsumerLoan</td>\n",
              "      <td>others</td>\n",
              "      <td>P2</td>\n",
              "    </tr>\n",
              "    <tr>\n",
              "      <th>3</th>\n",
              "      <td>0.000</td>\n",
              "      <td>0.0</td>\n",
              "      <td>0</td>\n",
              "      <td>0.000</td>\n",
              "      <td>0</td>\n",
              "      <td>0</td>\n",
              "      <td>0</td>\n",
              "      <td>0</td>\n",
              "      <td>3</td>\n",
              "      <td>0</td>\n",
              "      <td>...</td>\n",
              "      <td>0.000</td>\n",
              "      <td>0.0</td>\n",
              "      <td>0</td>\n",
              "      <td>0</td>\n",
              "      <td>Married</td>\n",
              "      <td>4</td>\n",
              "      <td>M</td>\n",
              "      <td>AL</td>\n",
              "      <td>AL</td>\n",
              "      <td>P1</td>\n",
              "    </tr>\n",
              "    <tr>\n",
              "      <th>4</th>\n",
              "      <td>0.000</td>\n",
              "      <td>0.0</td>\n",
              "      <td>1</td>\n",
              "      <td>0.167</td>\n",
              "      <td>0</td>\n",
              "      <td>0</td>\n",
              "      <td>0</td>\n",
              "      <td>0</td>\n",
              "      <td>6</td>\n",
              "      <td>0</td>\n",
              "      <td>...</td>\n",
              "      <td>0.429</td>\n",
              "      <td>0.0</td>\n",
              "      <td>1</td>\n",
              "      <td>0</td>\n",
              "      <td>Married</td>\n",
              "      <td>2</td>\n",
              "      <td>M</td>\n",
              "      <td>ConsumerLoan</td>\n",
              "      <td>PL</td>\n",
              "      <td>P3</td>\n",
              "    </tr>\n",
              "  </tbody>\n",
              "</table>\n",
              "<p>5 rows × 43 columns</p>\n",
              "</div>"
            ],
            "text/plain": [
              "   pct_tl_open_L6M  pct_tl_closed_L6M  Tot_TL_closed_L12M  pct_tl_closed_L12M  \\\n",
              "0            0.000                0.0                   0               0.000   \n",
              "1            0.000                0.0                   0               0.000   \n",
              "2            0.125                0.0                   0               0.000   \n",
              "3            0.000                0.0                   0               0.000   \n",
              "4            0.000                0.0                   1               0.167   \n",
              "\n",
              "   Tot_Missed_Pmnt  CC_TL  Home_TL  PL_TL  Secured_TL  Unsecured_TL  ...  \\\n",
              "0                0      0        0      4           1             4  ...   \n",
              "1                0      0        0      0           0             1  ...   \n",
              "2                1      0        0      0           2             6  ...   \n",
              "3                0      0        0      0           3             0  ...   \n",
              "4                0      0        0      0           6             0  ...   \n",
              "\n",
              "   pct_PL_enq_L6m_of_ever  pct_CC_enq_L6m_of_ever  HL_Flag  GL_Flag  \\\n",
              "0                   0.000                     0.0        1        0   \n",
              "1                   0.000                     0.0        0        0   \n",
              "2                   0.000                     0.0        1        0   \n",
              "3                   0.000                     0.0        0        0   \n",
              "4                   0.429                     0.0        1        0   \n",
              "\n",
              "   MARITALSTATUS  EDUCATION  GENDER  last_prod_enq2  first_prod_enq2  \\\n",
              "0        Married          2       M              PL               PL   \n",
              "1         Single          3       F    ConsumerLoan     ConsumerLoan   \n",
              "2        Married          1       M    ConsumerLoan           others   \n",
              "3        Married          4       M              AL               AL   \n",
              "4        Married          2       M    ConsumerLoan               PL   \n",
              "\n",
              "   Approved_Flag  \n",
              "0             P2  \n",
              "1             P2  \n",
              "2             P2  \n",
              "3             P1  \n",
              "4             P3  \n",
              "\n",
              "[5 rows x 43 columns]"
            ]
          },
          "execution_count": 44,
          "metadata": {},
          "output_type": "execute_result"
        }
      ],
      "source": [
        "df.head(\n",
        "\n",
        ")"
      ]
    },
    {
      "cell_type": "code",
      "execution_count": 45,
      "metadata": {
        "colab": {
          "base_uri": "https://localhost:8080/",
          "height": 241
        },
        "id": "YJ-io1aHny7p",
        "outputId": "34c02a76-6b38-486b-fc15-3dd81f773c6d"
      },
      "outputs": [
        {
          "data": {
            "text/plain": [
              "EDUCATION\n",
              "3    18931\n",
              "2    11703\n",
              "1     9532\n",
              "4     1898\n",
              "Name: count, dtype: int64"
            ]
          },
          "execution_count": 45,
          "metadata": {},
          "output_type": "execute_result"
        }
      ],
      "source": [
        "df['EDUCATION'].value_counts()"
      ]
    },
    {
      "cell_type": "code",
      "execution_count": 46,
      "metadata": {
        "id": "6WyLJ9n5oKxP"
      },
      "outputs": [],
      "source": [
        "#now we will apply one hot on other categorical cols\n",
        "df_encoded=pd.get_dummies(df,columns=['MARITALSTATUS', 'GENDER', 'last_prod_enq2', 'first_prod_enq2'])"
      ]
    },
    {
      "cell_type": "code",
      "execution_count": 47,
      "metadata": {
        "colab": {
          "base_uri": "https://localhost:8080/"
        },
        "id": "6rok8BsjpxqK",
        "outputId": "aec49aa5-88c8-4093-8d21-d65356a23850"
      },
      "outputs": [
        {
          "name": "stdout",
          "output_type": "stream",
          "text": [
            "(42064, 43)\n",
            "(42064, 55)\n"
          ]
        }
      ],
      "source": [
        "print(df.shape)\n",
        "print(df_encoded.shape)"
      ]
    },
    {
      "cell_type": "code",
      "execution_count": 48,
      "metadata": {
        "colab": {
          "base_uri": "https://localhost:8080/"
        },
        "id": "3GmfhtleqFaR",
        "outputId": "0e2afd6b-90ea-4b30-e561-fbca904938a4"
      },
      "outputs": [
        {
          "name": "stdout",
          "output_type": "stream",
          "text": [
            "<class 'pandas.core.frame.DataFrame'>\n",
            "RangeIndex: 42064 entries, 0 to 42063\n",
            "Data columns (total 55 columns):\n",
            " #   Column                        Non-Null Count  Dtype  \n",
            "---  ------                        --------------  -----  \n",
            " 0   pct_tl_open_L6M               42064 non-null  float64\n",
            " 1   pct_tl_closed_L6M             42064 non-null  float64\n",
            " 2   Tot_TL_closed_L12M            42064 non-null  int64  \n",
            " 3   pct_tl_closed_L12M            42064 non-null  float64\n",
            " 4   Tot_Missed_Pmnt               42064 non-null  int64  \n",
            " 5   CC_TL                         42064 non-null  int64  \n",
            " 6   Home_TL                       42064 non-null  int64  \n",
            " 7   PL_TL                         42064 non-null  int64  \n",
            " 8   Secured_TL                    42064 non-null  int64  \n",
            " 9   Unsecured_TL                  42064 non-null  int64  \n",
            " 10  Other_TL                      42064 non-null  int64  \n",
            " 11  Age_Oldest_TL                 42064 non-null  int64  \n",
            " 12  Age_Newest_TL                 42064 non-null  int64  \n",
            " 13  time_since_recent_payment     42064 non-null  int64  \n",
            " 14  max_recent_level_of_deliq     42064 non-null  int64  \n",
            " 15  num_deliq_6_12mts             42064 non-null  int64  \n",
            " 16  num_times_60p_dpd             42064 non-null  int64  \n",
            " 17  num_std_12mts                 42064 non-null  int64  \n",
            " 18  num_sub                       42064 non-null  int64  \n",
            " 19  num_sub_6mts                  42064 non-null  int64  \n",
            " 20  num_sub_12mts                 42064 non-null  int64  \n",
            " 21  num_dbt                       42064 non-null  int64  \n",
            " 22  num_dbt_12mts                 42064 non-null  int64  \n",
            " 23  num_lss                       42064 non-null  int64  \n",
            " 24  recent_level_of_deliq         42064 non-null  int64  \n",
            " 25  CC_enq_L12m                   42064 non-null  int64  \n",
            " 26  PL_enq_L12m                   42064 non-null  int64  \n",
            " 27  time_since_recent_enq         42064 non-null  int64  \n",
            " 28  enq_L3m                       42064 non-null  int64  \n",
            " 29  NETMONTHLYINCOME              42064 non-null  int64  \n",
            " 30  Time_With_Curr_Empr           42064 non-null  int64  \n",
            " 31  CC_Flag                       42064 non-null  int64  \n",
            " 32  PL_Flag                       42064 non-null  int64  \n",
            " 33  pct_PL_enq_L6m_of_ever        42064 non-null  float64\n",
            " 34  pct_CC_enq_L6m_of_ever        42064 non-null  float64\n",
            " 35  HL_Flag                       42064 non-null  int64  \n",
            " 36  GL_Flag                       42064 non-null  int64  \n",
            " 37  EDUCATION                     42064 non-null  int64  \n",
            " 38  Approved_Flag                 42064 non-null  object \n",
            " 39  MARITALSTATUS_Married         42064 non-null  bool   \n",
            " 40  MARITALSTATUS_Single          42064 non-null  bool   \n",
            " 41  GENDER_F                      42064 non-null  bool   \n",
            " 42  GENDER_M                      42064 non-null  bool   \n",
            " 43  last_prod_enq2_AL             42064 non-null  bool   \n",
            " 44  last_prod_enq2_CC             42064 non-null  bool   \n",
            " 45  last_prod_enq2_ConsumerLoan   42064 non-null  bool   \n",
            " 46  last_prod_enq2_HL             42064 non-null  bool   \n",
            " 47  last_prod_enq2_PL             42064 non-null  bool   \n",
            " 48  last_prod_enq2_others         42064 non-null  bool   \n",
            " 49  first_prod_enq2_AL            42064 non-null  bool   \n",
            " 50  first_prod_enq2_CC            42064 non-null  bool   \n",
            " 51  first_prod_enq2_ConsumerLoan  42064 non-null  bool   \n",
            " 52  first_prod_enq2_HL            42064 non-null  bool   \n",
            " 53  first_prod_enq2_PL            42064 non-null  bool   \n",
            " 54  first_prod_enq2_others        42064 non-null  bool   \n",
            "dtypes: bool(16), float64(5), int64(33), object(1)\n",
            "memory usage: 13.2+ MB\n"
          ]
        }
      ],
      "source": [
        "df_encoded.info()"
      ]
    },
    {
      "cell_type": "markdown",
      "metadata": {
        "id": "PT2IBJ2BgnlE"
      },
      "source": [
        "Even though the Approved_Flag column was not explicitly encoded using methods like one-hot encoding, it can still be used for prediction in your code because the machine learning algorithms you used (RandomForestClassifier, XGBClassifier, and DecisionTreeClassifier) can handle categorical target variables.\n",
        "\n",
        "\n",
        "In the case of XGBoost, you explicitly performed label encoding using LabelEncoder before fitting the model, ensuring that the target variable was properly handled.\n",
        "\n",
        "For RandomForest and DecisionTree, the label encoding likely happened implicitly within the algorithm's implementation."
      ]
    },
    {
      "cell_type": "markdown",
      "metadata": {
        "id": "24h5cmDaPSo7"
      },
      "source": [
        "#runing initial baseline models ...then we will fine tune the best model"
      ]
    },
    {
      "cell_type": "code",
      "execution_count": 49,
      "metadata": {
        "colab": {
          "base_uri": "https://localhost:8080/"
        },
        "id": "ff3kiXKsrE1f",
        "outputId": "df79b9ad-575d-4ce4-9a66-dc63a9cea535"
      },
      "outputs": [
        {
          "name": "stdout",
          "output_type": "stream",
          "text": [
            "\n",
            "Accuracy: 0.7636990372043266\n",
            "\n",
            "Class p1:\n",
            "Precision: 0.8370457209847597\n",
            "Recall: 0.7041420118343196\n",
            "F1 Score: 0.7648634172469202\n",
            "\n",
            "Class p2:\n",
            "Precision: 0.7957519116397621\n",
            "Recall: 0.9282457879088206\n",
            "F1 Score: 0.856907593778591\n",
            "\n",
            "Class p3:\n",
            "Precision: 0.4423380726698262\n",
            "Recall: 0.21132075471698114\n",
            "F1 Score: 0.28600612870275793\n",
            "\n",
            "Class p4:\n",
            "Precision: 0.7178502879078695\n",
            "Recall: 0.7269193391642371\n",
            "F1 Score: 0.7223563495895703\n",
            "\n"
          ]
        }
      ],
      "source": [
        "y = df_encoded['Approved_Flag']\n",
        "x = df_encoded. drop ( ['Approved_Flag'], axis = 1 )\n",
        "\n",
        "\n",
        "\n",
        "\n",
        "x_train, x_test, y_train, y_test = train_test_split(x, y, test_size=0.2, random_state=42)\n",
        "\n",
        "\n",
        "\n",
        "\n",
        "\n",
        "rf_classifier = RandomForestClassifier(n_estimators = 200, random_state=42)\n",
        "\n",
        "\n",
        "\n",
        "\n",
        "\n",
        "rf_classifier.fit(x_train, y_train)\n",
        "\n",
        "\n",
        "\n",
        "y_pred = rf_classifier.predict(x_test)\n",
        "\n",
        "\n",
        "\n",
        "\n",
        "\n",
        "accuracy = accuracy_score(y_test, y_pred)\n",
        "print ()\n",
        "print(f'Accuracy: {accuracy}')\n",
        "print ()\n",
        "precision, recall, f1_score, _ = precision_recall_fscore_support(y_test, y_pred)\n",
        "\n",
        "\n",
        "for i, v in enumerate(['p1', 'p2', 'p3', 'p4']):\n",
        "    print(f\"Class {v}:\")\n",
        "    print(f\"Precision: {precision[i]}\")\n",
        "    print(f\"Recall: {recall[i]}\")\n",
        "    print(f\"F1 Score: {f1_score[i]}\")\n",
        "    print()\n",
        "\n",
        "\n"
      ]
    },
    {
      "cell_type": "code",
      "execution_count": 50,
      "metadata": {
        "colab": {
          "base_uri": "https://localhost:8080/"
        },
        "id": "r-7vuU353Gnv",
        "outputId": "33a614aa-2f76-4606-8392-c7fac2b73ac2"
      },
      "outputs": [
        {
          "name": "stdout",
          "output_type": "stream",
          "text": [
            "\n",
            "Accuracy: 0.78\n",
            "\n",
            "Class p1:\n",
            "Precision: 0.823906083244397\n",
            "Recall: 0.7613412228796844\n",
            "F1 Score: 0.7913890312660175\n",
            "\n",
            "Class p2:\n",
            "Precision: 0.8255418233924413\n",
            "Recall: 0.913577799801784\n",
            "F1 Score: 0.8673315769665035\n",
            "\n",
            "Class p3:\n",
            "Precision: 0.4756380510440835\n",
            "Recall: 0.30943396226415093\n",
            "F1 Score: 0.37494284407864653\n",
            "\n",
            "Class p4:\n",
            "Precision: 0.7342386032977691\n",
            "Recall: 0.7356656948493683\n",
            "F1 Score: 0.7349514563106796\n",
            "\n"
          ]
        }
      ],
      "source": [
        "import xgboost as xgb\n",
        "from sklearn.preprocessing import LabelEncoder\n",
        "\n",
        "xgb_classifier = xgb.XGBClassifier(objective='multi:softmax',  num_class=4)\n",
        "\n",
        "\n",
        "\n",
        "y = df_encoded['Approved_Flag']\n",
        "x = df_encoded. drop ( ['Approved_Flag'], axis = 1 )\n",
        "\n",
        "\n",
        "label_encoder = LabelEncoder()\n",
        "y_encoded = label_encoder.fit_transform(y)\n",
        "\n",
        "\n",
        "x_train, x_test, y_train, y_test = train_test_split(x, y_encoded, test_size=0.2, random_state=42)\n",
        "\n",
        "\n",
        "\n",
        "\n",
        "xgb_classifier.fit(x_train, y_train)\n",
        "y_pred = xgb_classifier.predict(x_test)\n",
        "\n",
        "accuracy = accuracy_score(y_test, y_pred)\n",
        "print ()\n",
        "print(f'Accuracy: {accuracy:.2f}')\n",
        "print ()\n",
        "\n",
        "precision, recall, f1_score, _ = precision_recall_fscore_support(y_test, y_pred)\n",
        "\n",
        "for i, v in enumerate(['p1', 'p2', 'p3', 'p4']):\n",
        "    print(f\"Class {v}:\")\n",
        "    print(f\"Precision: {precision[i]}\")\n",
        "    print(f\"Recall: {recall[i]}\")\n",
        "    print(f\"F1 Score: {f1_score[i]}\")\n",
        "    print()"
      ]
    },
    {
      "cell_type": "code",
      "execution_count": 51,
      "metadata": {
        "colab": {
          "base_uri": "https://localhost:8080/"
        },
        "id": "JZTBcfuc3d2_",
        "outputId": "145f9bd3-3667-40be-b791-873fd6250bc5"
      },
      "outputs": [
        {
          "name": "stdout",
          "output_type": "stream",
          "text": [
            "\n",
            "Accuracy: 0.71\n",
            "\n",
            "Class p1:\n",
            "Precision: 0.7220039292730844\n",
            "Recall: 0.7248520710059172\n",
            "F1 Score: 0.7234251968503937\n",
            "\n",
            "Class p2:\n",
            "Precision: 0.8080808080808081\n",
            "Recall: 0.8245787908820614\n",
            "F1 Score: 0.8162464436377906\n",
            "\n",
            "Class p3:\n",
            "Precision: 0.34183266932270917\n",
            "Recall: 0.3237735849056604\n",
            "F1 Score: 0.3325581395348837\n",
            "\n",
            "Class p4:\n",
            "Precision: 0.6532258064516129\n",
            "Recall: 0.6297376093294461\n",
            "F1 Score: 0.6412666996536368\n",
            "\n"
          ]
        }
      ],
      "source": [
        "from sklearn.tree import DecisionTreeClassifier\n",
        "\n",
        "\n",
        "y = df_encoded['Approved_Flag']\n",
        "x = df_encoded. drop ( ['Approved_Flag'], axis = 1 )\n",
        "\n",
        "\n",
        "x_train, x_test, y_train, y_test = train_test_split(x, y, test_size=0.2, random_state=42)\n",
        "\n",
        "\n",
        "dt_model = DecisionTreeClassifier(max_depth=20, min_samples_split=10)\n",
        "dt_model.fit(x_train, y_train)\n",
        "y_pred = dt_model.predict(x_test)\n",
        "\n",
        "accuracy = accuracy_score(y_test, y_pred)\n",
        "print ()\n",
        "print(f\"Accuracy: {accuracy:.2f}\")\n",
        "print ()\n",
        "\n",
        "precision, recall, f1_score, _ = precision_recall_fscore_support(y_test, y_pred)\n",
        "\n",
        "for i, v in enumerate(['p1', 'p2', 'p3', 'p4']):\n",
        "    print(f\"Class {v}:\")\n",
        "    print(f\"Precision: {precision[i]}\")\n",
        "    print(f\"Recall: {recall[i]}\")\n",
        "    print(f\"F1 Score: {f1_score[i]}\")\n",
        "    print()\n"
      ]
    },
    {
      "cell_type": "markdown",
      "metadata": {
        "id": "amMawx58Iemt"
      },
      "source": []
    },
    {
      "cell_type": "code",
      "execution_count": 52,
      "metadata": {
        "colab": {
          "base_uri": "https://localhost:8080/",
          "height": 241
        },
        "id": "IOLyjKHZIgOt",
        "outputId": "88db4d30-8e0a-4141-895a-cd39c98e87c5"
      },
      "outputs": [
        {
          "data": {
            "text/plain": [
              "Approved_Flag\n",
              "P2    25452\n",
              "P3     6440\n",
              "P4     5264\n",
              "P1     4908\n",
              "Name: count, dtype: int64"
            ]
          },
          "execution_count": 52,
          "metadata": {},
          "output_type": "execute_result"
        }
      ],
      "source": [
        "df_encoded['Approved_Flag'].value_counts()"
      ]
    },
    {
      "cell_type": "code",
      "execution_count": 53,
      "metadata": {
        "id": "bBxhCkj6KpPF"
      },
      "outputs": [],
      "source": [
        "#if the data is imbalaned  so we can't rely on accuraccy we use recall and f1"
      ]
    },
    {
      "cell_type": "markdown",
      "metadata": {
        "id": "3bnId3npEOsH"
      },
      "source": [
        "we test our data on training data and then on test data ...........\n",
        "\n",
        "testing  our\n",
        "model on training data tells us wheter our model has learned or not i.e it tells us about underfitting\n",
        "\n"
      ]
    },
    {
      "cell_type": "code",
      "execution_count": 54,
      "metadata": {
        "colab": {
          "base_uri": "https://localhost:8080/"
        },
        "id": "tBvbUkwY3_In",
        "outputId": "ef4512cd-bf98-4afa-a28d-f77c7d6072df"
      },
      "outputs": [
        {
          "data": {
            "text/plain": [
              "(42064, 43)"
            ]
          },
          "execution_count": 54,
          "metadata": {},
          "output_type": "execute_result"
        }
      ],
      "source": [
        "df.shape"
      ]
    },
    {
      "cell_type": "markdown",
      "metadata": {
        "id": "2zgG6qxAN_C2"
      },
      "source": [
        "#when we do this tuneing we get best parameter and basis on that parameer we create our model final"
      ]
    },
    {
      "cell_type": "code",
      "execution_count": 55,
      "metadata": {
        "id": "ox427ytvOq8r"
      },
      "outputs": [],
      "source": [
        "# Hyperparameter tuning in xgboost\n",
        "\n",
        "\n",
        "\n",
        "# Based on risk appetite of the bank, you will suggest P1,P2,P3,P4 to the business end user\n",
        "\n",
        "\n",
        "\n",
        "\n",
        "\n",
        "\n",
        "\n",
        "\n",
        "# # Hyperparameter tuning for xgboost (Used in the session)\n",
        "\n",
        "# # Define the hyperparameter grid\n",
        "# param_grid = {\n",
        "#   'colsample_bytree': [0.1, 0.3, 0.5, 0.7, 0.9],\n",
        "#   'learning_rate'   : [0.001, 0.01, 0.1, 1],\n",
        "#   'max_depth'       : [3, 5, 8, 10],\n",
        "#   'alpha'           : [1, 10, 100],\n",
        "#   'n_estimators'    : [10,50,100]\n",
        "# }\n",
        "\n",
        "# index = 0\n",
        "\n",
        "# answers_grid = {\n",
        "#     'combination'       :[],\n",
        "#     'train_Accuracy'    :[],\n",
        "#     'test_Accuracy'     :[],\n",
        "#     'colsample_bytree'  :[],\n",
        "#     'learning_rate'     :[],\n",
        "#     'max_depth'         :[],\n",
        "#     'alpha'             :[],\n",
        "#     'n_estimators'      :[]\n",
        "\n",
        "#     }\n",
        "\n",
        "\n",
        "# # Loop through each combination of hyperparameters\n",
        "# for colsample_bytree in param_grid['colsample_bytree']:\n",
        "#   for learning_rate in param_grid['learning_rate']:\n",
        "#     for max_depth in param_grid['max_depth']:\n",
        "#       for alpha in param_grid['alpha']:\n",
        "#           for n_estimators in param_grid['n_estimators']:\n",
        "\n",
        "#               index = index + 1\n",
        "\n",
        "#               # Define and train the XGBoost model\n",
        "#               model = xgb.XGBClassifier(objective='multi:softmax',\n",
        "#                                        num_class=4,\n",
        "#                                        colsample_bytree = colsample_bytree,\n",
        "#                                        learning_rate = learning_rate,\n",
        "#                                        max_depth = max_depth,\n",
        "#                                        alpha = alpha,\n",
        "#                                        n_estimators = n_estimators)\n",
        "\n",
        "\n",
        "\n",
        "#               y = df_encoded['Approved_Flag']\n",
        "#               x = df_encoded. drop ( ['Approved_Flag'], axis = 1 )\n",
        "\n",
        "#               label_encoder = LabelEncoder()\n",
        "#               y_encoded = label_encoder.fit_transform(y)\n",
        "\n",
        "\n",
        "#               x_train, x_test, y_train, y_test = train_test_split(x, y_encoded, test_size=0.2, random_state=42)\n",
        "\n",
        "\n",
        "#               model.fit(x_train, y_train)\n",
        "\n",
        "\n",
        "\n",
        "#               # Predict on training and testing sets\n",
        "#               y_pred_train = model.predict(x_train)\n",
        "#               y_pred_test = model.predict(x_test)\n",
        "\n",
        "\n",
        "#               # Calculate train and test results\n",
        "\n",
        "#               train_accuracy =  accuracy_score (y_train, y_pred_train)\n",
        "#               test_accuracy  =  accuracy_score (y_test , y_pred_test)\n",
        "\n",
        "\n",
        "\n",
        "#               # Include into the lists\n",
        "#               answers_grid ['combination']   .append(index)\n",
        "#               answers_grid ['train_Accuracy']    .append(train_accuracy)\n",
        "#               answers_grid ['test_Accuracy']     .append(test_accuracy)\n",
        "#               answers_grid ['colsample_bytree']   .append(colsample_bytree)\n",
        "#               answers_grid ['learning_rate']      .append(learning_rate)\n",
        "#               answers_grid ['max_depth']          .append(max_depth)\n",
        "#               answers_grid ['alpha']              .append(alpha)\n",
        "#               answers_grid ['n_estimators']       .append(n_estimators)\n",
        "\n",
        "\n",
        "#               # Print results for this combination\n",
        "#               print(f\"Combination {index}\")\n",
        "#               print(f\"colsample_bytree: {colsample_bytree}, learning_rate: {learning_rate}, max_depth: {max_depth}, alpha: {alpha}, n_estimators: {n_estimators}\")\n",
        "#               print(f\"Train Accuracy: {train_accuracy:.2f}\")\n",
        "#               print(f\"Test Accuracy : {test_accuracy :.2f}\")\n",
        "#               print(\"-\" * 30)\n",
        "\n",
        "\n"
      ]
    },
    {
      "cell_type": "code",
      "execution_count": 56,
      "metadata": {
        "id": "U0_NFU_KO7gV"
      },
      "outputs": [],
      "source": [
        "# model=xgb.XGBClassifier(objective='multi:softmax',  num_class=4,colsample_bytree=0.3,learning_rate=1,max_depth=3,alpha=1,n_estimators=100)\n",
        "\n",
        "# y = df_encoded['Approved_Flag']\n",
        "# x = df_encoded. drop ( ['Approved_Flag'], axis = 1 )\n",
        "\n",
        "\n",
        "# label_encoder = LabelEncoder()\n",
        "# y_encoded = label_encoder.fit_transform(y)\n",
        "\n",
        "\n",
        "# x_train, x_test, y_train, y_test = train_test_split(x, y_encoded, test_size=0.2, random_state=42)\n",
        "\n",
        "\n",
        "\n",
        "\n",
        "# model.fit(x_train, y_train)\n",
        "# y_pred = model.predict(x_test)\n",
        "\n",
        "# accuracy = accuracy_score(y_test, y_pred)\n",
        "# print ()\n",
        "# print(f'Accuracy: {accuracy:.2f}')\n",
        "# print ()\n",
        "\n",
        "# precision, recall, f1_score, _ = precision_recall_fscore_support(y_test, y_pred)\n",
        "\n",
        "# for i, v in enumerate(['p1', 'p2', 'p3', 'p4']):\n",
        "#     print(f\"Class {v}:\")\n",
        "#     print(f\"Precision: {precision[i]}\")\n",
        "#     print(f\"Recall: {recall[i]}\")\n",
        "#     print(f\"F1 Score: {f1_score[i]}\")\n",
        "#     print()"
      ]
    },
    {
      "cell_type": "code",
      "execution_count": 57,
      "metadata": {
        "colab": {
          "base_uri": "https://localhost:8080/",
          "height": 211
        },
        "id": "oJ3ylRwVQhxf",
        "outputId": "9d87eb23-4a1c-4407-9d2f-bf9e1924c7b4"
      },
      "outputs": [],
      "source": [
        "# y_train_pred=model.predict(x_train)\n",
        "\n",
        "# print(np.unique(y_train_pred))\n",
        "# train_accuracy =  accuracy_score (y_train, y_train_pred)\n",
        "# print (train_accuracy)\n",
        "\n"
      ]
    },
    {
      "cell_type": "code",
      "execution_count": 58,
      "metadata": {
        "colab": {
          "base_uri": "https://localhost:8080/"
        },
        "id": "nIGQ_Tje5kOX",
        "outputId": "b675c64b-51af-4188-ea76-96d6b06f4aea"
      },
      "outputs": [
        {
          "data": {
            "text/plain": [
              "(42064, 43)"
            ]
          },
          "execution_count": 58,
          "metadata": {},
          "output_type": "execute_result"
        }
      ],
      "source": [
        "df.shape"
      ]
    },
    {
      "cell_type": "code",
      "execution_count": 59,
      "metadata": {
        "colab": {
          "base_uri": "https://localhost:8080/",
          "height": 256
        },
        "id": "bF_kdC0D6sAh",
        "outputId": "8cda2df7-f0dc-450e-f87c-65d7218019b9"
      },
      "outputs": [
        {
          "data": {
            "text/html": [
              "<div>\n",
              "<style scoped>\n",
              "    .dataframe tbody tr th:only-of-type {\n",
              "        vertical-align: middle;\n",
              "    }\n",
              "\n",
              "    .dataframe tbody tr th {\n",
              "        vertical-align: top;\n",
              "    }\n",
              "\n",
              "    .dataframe thead th {\n",
              "        text-align: right;\n",
              "    }\n",
              "</style>\n",
              "<table border=\"1\" class=\"dataframe\">\n",
              "  <thead>\n",
              "    <tr style=\"text-align: right;\">\n",
              "      <th></th>\n",
              "      <th>pct_tl_open_L6M</th>\n",
              "      <th>pct_tl_closed_L6M</th>\n",
              "      <th>Tot_TL_closed_L12M</th>\n",
              "      <th>pct_tl_closed_L12M</th>\n",
              "      <th>Tot_Missed_Pmnt</th>\n",
              "      <th>CC_TL</th>\n",
              "      <th>Home_TL</th>\n",
              "      <th>PL_TL</th>\n",
              "      <th>Secured_TL</th>\n",
              "      <th>Unsecured_TL</th>\n",
              "      <th>...</th>\n",
              "      <th>pct_PL_enq_L6m_of_ever</th>\n",
              "      <th>pct_CC_enq_L6m_of_ever</th>\n",
              "      <th>HL_Flag</th>\n",
              "      <th>GL_Flag</th>\n",
              "      <th>MARITALSTATUS</th>\n",
              "      <th>EDUCATION</th>\n",
              "      <th>GENDER</th>\n",
              "      <th>last_prod_enq2</th>\n",
              "      <th>first_prod_enq2</th>\n",
              "      <th>Approved_Flag</th>\n",
              "    </tr>\n",
              "  </thead>\n",
              "  <tbody>\n",
              "    <tr>\n",
              "      <th>0</th>\n",
              "      <td>0.000</td>\n",
              "      <td>0.0</td>\n",
              "      <td>0</td>\n",
              "      <td>0.000</td>\n",
              "      <td>0</td>\n",
              "      <td>0</td>\n",
              "      <td>0</td>\n",
              "      <td>4</td>\n",
              "      <td>1</td>\n",
              "      <td>4</td>\n",
              "      <td>...</td>\n",
              "      <td>0.000</td>\n",
              "      <td>0.0</td>\n",
              "      <td>1</td>\n",
              "      <td>0</td>\n",
              "      <td>Married</td>\n",
              "      <td>2</td>\n",
              "      <td>M</td>\n",
              "      <td>PL</td>\n",
              "      <td>PL</td>\n",
              "      <td>P2</td>\n",
              "    </tr>\n",
              "    <tr>\n",
              "      <th>1</th>\n",
              "      <td>0.000</td>\n",
              "      <td>0.0</td>\n",
              "      <td>0</td>\n",
              "      <td>0.000</td>\n",
              "      <td>0</td>\n",
              "      <td>0</td>\n",
              "      <td>0</td>\n",
              "      <td>0</td>\n",
              "      <td>0</td>\n",
              "      <td>1</td>\n",
              "      <td>...</td>\n",
              "      <td>0.000</td>\n",
              "      <td>0.0</td>\n",
              "      <td>0</td>\n",
              "      <td>0</td>\n",
              "      <td>Single</td>\n",
              "      <td>3</td>\n",
              "      <td>F</td>\n",
              "      <td>ConsumerLoan</td>\n",
              "      <td>ConsumerLoan</td>\n",
              "      <td>P2</td>\n",
              "    </tr>\n",
              "    <tr>\n",
              "      <th>2</th>\n",
              "      <td>0.125</td>\n",
              "      <td>0.0</td>\n",
              "      <td>0</td>\n",
              "      <td>0.000</td>\n",
              "      <td>1</td>\n",
              "      <td>0</td>\n",
              "      <td>0</td>\n",
              "      <td>0</td>\n",
              "      <td>2</td>\n",
              "      <td>6</td>\n",
              "      <td>...</td>\n",
              "      <td>0.000</td>\n",
              "      <td>0.0</td>\n",
              "      <td>1</td>\n",
              "      <td>0</td>\n",
              "      <td>Married</td>\n",
              "      <td>1</td>\n",
              "      <td>M</td>\n",
              "      <td>ConsumerLoan</td>\n",
              "      <td>others</td>\n",
              "      <td>P2</td>\n",
              "    </tr>\n",
              "    <tr>\n",
              "      <th>3</th>\n",
              "      <td>0.000</td>\n",
              "      <td>0.0</td>\n",
              "      <td>0</td>\n",
              "      <td>0.000</td>\n",
              "      <td>0</td>\n",
              "      <td>0</td>\n",
              "      <td>0</td>\n",
              "      <td>0</td>\n",
              "      <td>3</td>\n",
              "      <td>0</td>\n",
              "      <td>...</td>\n",
              "      <td>0.000</td>\n",
              "      <td>0.0</td>\n",
              "      <td>0</td>\n",
              "      <td>0</td>\n",
              "      <td>Married</td>\n",
              "      <td>4</td>\n",
              "      <td>M</td>\n",
              "      <td>AL</td>\n",
              "      <td>AL</td>\n",
              "      <td>P1</td>\n",
              "    </tr>\n",
              "    <tr>\n",
              "      <th>4</th>\n",
              "      <td>0.000</td>\n",
              "      <td>0.0</td>\n",
              "      <td>1</td>\n",
              "      <td>0.167</td>\n",
              "      <td>0</td>\n",
              "      <td>0</td>\n",
              "      <td>0</td>\n",
              "      <td>0</td>\n",
              "      <td>6</td>\n",
              "      <td>0</td>\n",
              "      <td>...</td>\n",
              "      <td>0.429</td>\n",
              "      <td>0.0</td>\n",
              "      <td>1</td>\n",
              "      <td>0</td>\n",
              "      <td>Married</td>\n",
              "      <td>2</td>\n",
              "      <td>M</td>\n",
              "      <td>ConsumerLoan</td>\n",
              "      <td>PL</td>\n",
              "      <td>P3</td>\n",
              "    </tr>\n",
              "  </tbody>\n",
              "</table>\n",
              "<p>5 rows × 43 columns</p>\n",
              "</div>"
            ],
            "text/plain": [
              "   pct_tl_open_L6M  pct_tl_closed_L6M  Tot_TL_closed_L12M  pct_tl_closed_L12M  \\\n",
              "0            0.000                0.0                   0               0.000   \n",
              "1            0.000                0.0                   0               0.000   \n",
              "2            0.125                0.0                   0               0.000   \n",
              "3            0.000                0.0                   0               0.000   \n",
              "4            0.000                0.0                   1               0.167   \n",
              "\n",
              "   Tot_Missed_Pmnt  CC_TL  Home_TL  PL_TL  Secured_TL  Unsecured_TL  ...  \\\n",
              "0                0      0        0      4           1             4  ...   \n",
              "1                0      0        0      0           0             1  ...   \n",
              "2                1      0        0      0           2             6  ...   \n",
              "3                0      0        0      0           3             0  ...   \n",
              "4                0      0        0      0           6             0  ...   \n",
              "\n",
              "   pct_PL_enq_L6m_of_ever  pct_CC_enq_L6m_of_ever  HL_Flag  GL_Flag  \\\n",
              "0                   0.000                     0.0        1        0   \n",
              "1                   0.000                     0.0        0        0   \n",
              "2                   0.000                     0.0        1        0   \n",
              "3                   0.000                     0.0        0        0   \n",
              "4                   0.429                     0.0        1        0   \n",
              "\n",
              "   MARITALSTATUS  EDUCATION  GENDER  last_prod_enq2  first_prod_enq2  \\\n",
              "0        Married          2       M              PL               PL   \n",
              "1         Single          3       F    ConsumerLoan     ConsumerLoan   \n",
              "2        Married          1       M    ConsumerLoan           others   \n",
              "3        Married          4       M              AL               AL   \n",
              "4        Married          2       M    ConsumerLoan               PL   \n",
              "\n",
              "   Approved_Flag  \n",
              "0             P2  \n",
              "1             P2  \n",
              "2             P2  \n",
              "3             P1  \n",
              "4             P3  \n",
              "\n",
              "[5 rows x 43 columns]"
            ]
          },
          "execution_count": 59,
          "metadata": {},
          "output_type": "execute_result"
        }
      ],
      "source": [
        "df.head()"
      ]
    },
    {
      "cell_type": "code",
      "execution_count": 5,
      "metadata": {
        "id": "TrbluWhD8et8"
      },
      "outputs": [],
      "source": [
        "from sklearn.compose import ColumnTransformer"
      ]
    },
    {
      "cell_type": "code",
      "execution_count": 6,
      "metadata": {
        "id": "tUCTIY5gLbCL"
      },
      "outputs": [],
      "source": [
        "df1=pd.read_csv('final_dataset_v1.csv')"
      ]
    },
    {
      "cell_type": "code",
      "execution_count": 7,
      "metadata": {
        "colab": {
          "base_uri": "https://localhost:8080/"
        },
        "id": "qUYIEDvqFAhL",
        "outputId": "efa62884-75b7-425c-94c7-499312ebc806"
      },
      "outputs": [
        {
          "data": {
            "text/plain": [
              "(42064, 44)"
            ]
          },
          "execution_count": 7,
          "metadata": {},
          "output_type": "execute_result"
        }
      ],
      "source": [
        "df1.shape"
      ]
    },
    {
      "cell_type": "code",
      "execution_count": 8,
      "metadata": {
        "colab": {
          "base_uri": "https://localhost:8080/",
          "height": 290
        },
        "id": "WSUfYs7t6xLb",
        "outputId": "4d481399-b670-4285-e843-fdb0d239cb72"
      },
      "outputs": [
        {
          "data": {
            "text/html": [
              "<div>\n",
              "<style scoped>\n",
              "    .dataframe tbody tr th:only-of-type {\n",
              "        vertical-align: middle;\n",
              "    }\n",
              "\n",
              "    .dataframe tbody tr th {\n",
              "        vertical-align: top;\n",
              "    }\n",
              "\n",
              "    .dataframe thead th {\n",
              "        text-align: right;\n",
              "    }\n",
              "</style>\n",
              "<table border=\"1\" class=\"dataframe\">\n",
              "  <thead>\n",
              "    <tr style=\"text-align: right;\">\n",
              "      <th></th>\n",
              "      <th>Unnamed: 0</th>\n",
              "      <th>pct_tl_open_L6M</th>\n",
              "      <th>pct_tl_closed_L6M</th>\n",
              "      <th>Tot_TL_closed_L12M</th>\n",
              "      <th>pct_tl_closed_L12M</th>\n",
              "      <th>Tot_Missed_Pmnt</th>\n",
              "      <th>CC_TL</th>\n",
              "      <th>Home_TL</th>\n",
              "      <th>PL_TL</th>\n",
              "      <th>Secured_TL</th>\n",
              "      <th>...</th>\n",
              "      <th>pct_PL_enq_L6m_of_ever</th>\n",
              "      <th>pct_CC_enq_L6m_of_ever</th>\n",
              "      <th>HL_Flag</th>\n",
              "      <th>GL_Flag</th>\n",
              "      <th>MARITALSTATUS</th>\n",
              "      <th>EDUCATION</th>\n",
              "      <th>GENDER</th>\n",
              "      <th>last_prod_enq2</th>\n",
              "      <th>first_prod_enq2</th>\n",
              "      <th>Approved_Flag</th>\n",
              "    </tr>\n",
              "  </thead>\n",
              "  <tbody>\n",
              "    <tr>\n",
              "      <th>0</th>\n",
              "      <td>0</td>\n",
              "      <td>0.000</td>\n",
              "      <td>0.0</td>\n",
              "      <td>0</td>\n",
              "      <td>0.000</td>\n",
              "      <td>0</td>\n",
              "      <td>0</td>\n",
              "      <td>0</td>\n",
              "      <td>4</td>\n",
              "      <td>1</td>\n",
              "      <td>...</td>\n",
              "      <td>0.000</td>\n",
              "      <td>0.0</td>\n",
              "      <td>1</td>\n",
              "      <td>0</td>\n",
              "      <td>Married</td>\n",
              "      <td>12TH</td>\n",
              "      <td>M</td>\n",
              "      <td>PL</td>\n",
              "      <td>PL</td>\n",
              "      <td>P2</td>\n",
              "    </tr>\n",
              "    <tr>\n",
              "      <th>1</th>\n",
              "      <td>1</td>\n",
              "      <td>0.000</td>\n",
              "      <td>0.0</td>\n",
              "      <td>0</td>\n",
              "      <td>0.000</td>\n",
              "      <td>0</td>\n",
              "      <td>0</td>\n",
              "      <td>0</td>\n",
              "      <td>0</td>\n",
              "      <td>0</td>\n",
              "      <td>...</td>\n",
              "      <td>0.000</td>\n",
              "      <td>0.0</td>\n",
              "      <td>0</td>\n",
              "      <td>0</td>\n",
              "      <td>Single</td>\n",
              "      <td>GRADUATE</td>\n",
              "      <td>F</td>\n",
              "      <td>ConsumerLoan</td>\n",
              "      <td>ConsumerLoan</td>\n",
              "      <td>P2</td>\n",
              "    </tr>\n",
              "    <tr>\n",
              "      <th>2</th>\n",
              "      <td>2</td>\n",
              "      <td>0.125</td>\n",
              "      <td>0.0</td>\n",
              "      <td>0</td>\n",
              "      <td>0.000</td>\n",
              "      <td>1</td>\n",
              "      <td>0</td>\n",
              "      <td>0</td>\n",
              "      <td>0</td>\n",
              "      <td>2</td>\n",
              "      <td>...</td>\n",
              "      <td>0.000</td>\n",
              "      <td>0.0</td>\n",
              "      <td>1</td>\n",
              "      <td>0</td>\n",
              "      <td>Married</td>\n",
              "      <td>SSC</td>\n",
              "      <td>M</td>\n",
              "      <td>ConsumerLoan</td>\n",
              "      <td>others</td>\n",
              "      <td>P2</td>\n",
              "    </tr>\n",
              "    <tr>\n",
              "      <th>3</th>\n",
              "      <td>3</td>\n",
              "      <td>0.000</td>\n",
              "      <td>0.0</td>\n",
              "      <td>0</td>\n",
              "      <td>0.000</td>\n",
              "      <td>0</td>\n",
              "      <td>0</td>\n",
              "      <td>0</td>\n",
              "      <td>0</td>\n",
              "      <td>3</td>\n",
              "      <td>...</td>\n",
              "      <td>0.000</td>\n",
              "      <td>0.0</td>\n",
              "      <td>0</td>\n",
              "      <td>0</td>\n",
              "      <td>Married</td>\n",
              "      <td>POST-GRADUATE</td>\n",
              "      <td>M</td>\n",
              "      <td>AL</td>\n",
              "      <td>AL</td>\n",
              "      <td>P1</td>\n",
              "    </tr>\n",
              "    <tr>\n",
              "      <th>4</th>\n",
              "      <td>4</td>\n",
              "      <td>0.000</td>\n",
              "      <td>0.0</td>\n",
              "      <td>1</td>\n",
              "      <td>0.167</td>\n",
              "      <td>0</td>\n",
              "      <td>0</td>\n",
              "      <td>0</td>\n",
              "      <td>0</td>\n",
              "      <td>6</td>\n",
              "      <td>...</td>\n",
              "      <td>0.429</td>\n",
              "      <td>0.0</td>\n",
              "      <td>1</td>\n",
              "      <td>0</td>\n",
              "      <td>Married</td>\n",
              "      <td>12TH</td>\n",
              "      <td>M</td>\n",
              "      <td>ConsumerLoan</td>\n",
              "      <td>PL</td>\n",
              "      <td>P3</td>\n",
              "    </tr>\n",
              "  </tbody>\n",
              "</table>\n",
              "<p>5 rows × 44 columns</p>\n",
              "</div>"
            ],
            "text/plain": [
              "   Unnamed: 0  pct_tl_open_L6M  pct_tl_closed_L6M  Tot_TL_closed_L12M  \\\n",
              "0           0            0.000                0.0                   0   \n",
              "1           1            0.000                0.0                   0   \n",
              "2           2            0.125                0.0                   0   \n",
              "3           3            0.000                0.0                   0   \n",
              "4           4            0.000                0.0                   1   \n",
              "\n",
              "   pct_tl_closed_L12M  Tot_Missed_Pmnt  CC_TL  Home_TL  PL_TL  Secured_TL  \\\n",
              "0               0.000                0      0        0      4           1   \n",
              "1               0.000                0      0        0      0           0   \n",
              "2               0.000                1      0        0      0           2   \n",
              "3               0.000                0      0        0      0           3   \n",
              "4               0.167                0      0        0      0           6   \n",
              "\n",
              "   ...  pct_PL_enq_L6m_of_ever  pct_CC_enq_L6m_of_ever  HL_Flag  GL_Flag  \\\n",
              "0  ...                   0.000                     0.0        1        0   \n",
              "1  ...                   0.000                     0.0        0        0   \n",
              "2  ...                   0.000                     0.0        1        0   \n",
              "3  ...                   0.000                     0.0        0        0   \n",
              "4  ...                   0.429                     0.0        1        0   \n",
              "\n",
              "   MARITALSTATUS      EDUCATION  GENDER  last_prod_enq2  first_prod_enq2  \\\n",
              "0        Married           12TH       M              PL               PL   \n",
              "1         Single       GRADUATE       F    ConsumerLoan     ConsumerLoan   \n",
              "2        Married            SSC       M    ConsumerLoan           others   \n",
              "3        Married  POST-GRADUATE       M              AL               AL   \n",
              "4        Married           12TH       M    ConsumerLoan               PL   \n",
              "\n",
              "   Approved_Flag  \n",
              "0             P2  \n",
              "1             P2  \n",
              "2             P2  \n",
              "3             P1  \n",
              "4             P3  \n",
              "\n",
              "[5 rows x 44 columns]"
            ]
          },
          "execution_count": 8,
          "metadata": {},
          "output_type": "execute_result"
        }
      ],
      "source": [
        "df1.head()"
      ]
    },
    {
      "cell_type": "code",
      "execution_count": 9,
      "metadata": {
        "id": "-4XB9WSRgah2"
      },
      "outputs": [],
      "source": [
        "df1=df1.drop(['Unnamed: 0'],axis=1)"
      ]
    },
    {
      "cell_type": "code",
      "execution_count": 10,
      "metadata": {
        "colab": {
          "base_uri": "https://localhost:8080/"
        },
        "id": "Ju580BUmgi9Z",
        "outputId": "e99a76ed-49df-4d23-aca1-bbe15af1fb48"
      },
      "outputs": [
        {
          "data": {
            "text/plain": [
              "(42064, 43)"
            ]
          },
          "execution_count": 10,
          "metadata": {},
          "output_type": "execute_result"
        }
      ],
      "source": [
        "df1.shape"
      ]
    },
    {
      "cell_type": "code",
      "execution_count": 11,
      "metadata": {
        "colab": {
          "base_uri": "https://localhost:8080/",
          "height": 273
        },
        "id": "la8_e2uKglyD",
        "outputId": "e2d2941b-b842-4e21-fec6-12e3825c1588"
      },
      "outputs": [
        {
          "data": {
            "text/html": [
              "<div>\n",
              "<style scoped>\n",
              "    .dataframe tbody tr th:only-of-type {\n",
              "        vertical-align: middle;\n",
              "    }\n",
              "\n",
              "    .dataframe tbody tr th {\n",
              "        vertical-align: top;\n",
              "    }\n",
              "\n",
              "    .dataframe thead th {\n",
              "        text-align: right;\n",
              "    }\n",
              "</style>\n",
              "<table border=\"1\" class=\"dataframe\">\n",
              "  <thead>\n",
              "    <tr style=\"text-align: right;\">\n",
              "      <th></th>\n",
              "      <th>pct_tl_open_L6M</th>\n",
              "      <th>pct_tl_closed_L6M</th>\n",
              "      <th>Tot_TL_closed_L12M</th>\n",
              "      <th>pct_tl_closed_L12M</th>\n",
              "      <th>Tot_Missed_Pmnt</th>\n",
              "      <th>CC_TL</th>\n",
              "      <th>Home_TL</th>\n",
              "      <th>PL_TL</th>\n",
              "      <th>Secured_TL</th>\n",
              "      <th>Unsecured_TL</th>\n",
              "      <th>...</th>\n",
              "      <th>pct_PL_enq_L6m_of_ever</th>\n",
              "      <th>pct_CC_enq_L6m_of_ever</th>\n",
              "      <th>HL_Flag</th>\n",
              "      <th>GL_Flag</th>\n",
              "      <th>MARITALSTATUS</th>\n",
              "      <th>EDUCATION</th>\n",
              "      <th>GENDER</th>\n",
              "      <th>last_prod_enq2</th>\n",
              "      <th>first_prod_enq2</th>\n",
              "      <th>Approved_Flag</th>\n",
              "    </tr>\n",
              "  </thead>\n",
              "  <tbody>\n",
              "    <tr>\n",
              "      <th>0</th>\n",
              "      <td>0.000</td>\n",
              "      <td>0.0</td>\n",
              "      <td>0</td>\n",
              "      <td>0.000</td>\n",
              "      <td>0</td>\n",
              "      <td>0</td>\n",
              "      <td>0</td>\n",
              "      <td>4</td>\n",
              "      <td>1</td>\n",
              "      <td>4</td>\n",
              "      <td>...</td>\n",
              "      <td>0.000</td>\n",
              "      <td>0.0</td>\n",
              "      <td>1</td>\n",
              "      <td>0</td>\n",
              "      <td>Married</td>\n",
              "      <td>12TH</td>\n",
              "      <td>M</td>\n",
              "      <td>PL</td>\n",
              "      <td>PL</td>\n",
              "      <td>P2</td>\n",
              "    </tr>\n",
              "    <tr>\n",
              "      <th>1</th>\n",
              "      <td>0.000</td>\n",
              "      <td>0.0</td>\n",
              "      <td>0</td>\n",
              "      <td>0.000</td>\n",
              "      <td>0</td>\n",
              "      <td>0</td>\n",
              "      <td>0</td>\n",
              "      <td>0</td>\n",
              "      <td>0</td>\n",
              "      <td>1</td>\n",
              "      <td>...</td>\n",
              "      <td>0.000</td>\n",
              "      <td>0.0</td>\n",
              "      <td>0</td>\n",
              "      <td>0</td>\n",
              "      <td>Single</td>\n",
              "      <td>GRADUATE</td>\n",
              "      <td>F</td>\n",
              "      <td>ConsumerLoan</td>\n",
              "      <td>ConsumerLoan</td>\n",
              "      <td>P2</td>\n",
              "    </tr>\n",
              "    <tr>\n",
              "      <th>2</th>\n",
              "      <td>0.125</td>\n",
              "      <td>0.0</td>\n",
              "      <td>0</td>\n",
              "      <td>0.000</td>\n",
              "      <td>1</td>\n",
              "      <td>0</td>\n",
              "      <td>0</td>\n",
              "      <td>0</td>\n",
              "      <td>2</td>\n",
              "      <td>6</td>\n",
              "      <td>...</td>\n",
              "      <td>0.000</td>\n",
              "      <td>0.0</td>\n",
              "      <td>1</td>\n",
              "      <td>0</td>\n",
              "      <td>Married</td>\n",
              "      <td>SSC</td>\n",
              "      <td>M</td>\n",
              "      <td>ConsumerLoan</td>\n",
              "      <td>others</td>\n",
              "      <td>P2</td>\n",
              "    </tr>\n",
              "    <tr>\n",
              "      <th>3</th>\n",
              "      <td>0.000</td>\n",
              "      <td>0.0</td>\n",
              "      <td>0</td>\n",
              "      <td>0.000</td>\n",
              "      <td>0</td>\n",
              "      <td>0</td>\n",
              "      <td>0</td>\n",
              "      <td>0</td>\n",
              "      <td>3</td>\n",
              "      <td>0</td>\n",
              "      <td>...</td>\n",
              "      <td>0.000</td>\n",
              "      <td>0.0</td>\n",
              "      <td>0</td>\n",
              "      <td>0</td>\n",
              "      <td>Married</td>\n",
              "      <td>POST-GRADUATE</td>\n",
              "      <td>M</td>\n",
              "      <td>AL</td>\n",
              "      <td>AL</td>\n",
              "      <td>P1</td>\n",
              "    </tr>\n",
              "    <tr>\n",
              "      <th>4</th>\n",
              "      <td>0.000</td>\n",
              "      <td>0.0</td>\n",
              "      <td>1</td>\n",
              "      <td>0.167</td>\n",
              "      <td>0</td>\n",
              "      <td>0</td>\n",
              "      <td>0</td>\n",
              "      <td>0</td>\n",
              "      <td>6</td>\n",
              "      <td>0</td>\n",
              "      <td>...</td>\n",
              "      <td>0.429</td>\n",
              "      <td>0.0</td>\n",
              "      <td>1</td>\n",
              "      <td>0</td>\n",
              "      <td>Married</td>\n",
              "      <td>12TH</td>\n",
              "      <td>M</td>\n",
              "      <td>ConsumerLoan</td>\n",
              "      <td>PL</td>\n",
              "      <td>P3</td>\n",
              "    </tr>\n",
              "  </tbody>\n",
              "</table>\n",
              "<p>5 rows × 43 columns</p>\n",
              "</div>"
            ],
            "text/plain": [
              "   pct_tl_open_L6M  pct_tl_closed_L6M  Tot_TL_closed_L12M  pct_tl_closed_L12M  \\\n",
              "0            0.000                0.0                   0               0.000   \n",
              "1            0.000                0.0                   0               0.000   \n",
              "2            0.125                0.0                   0               0.000   \n",
              "3            0.000                0.0                   0               0.000   \n",
              "4            0.000                0.0                   1               0.167   \n",
              "\n",
              "   Tot_Missed_Pmnt  CC_TL  Home_TL  PL_TL  Secured_TL  Unsecured_TL  ...  \\\n",
              "0                0      0        0      4           1             4  ...   \n",
              "1                0      0        0      0           0             1  ...   \n",
              "2                1      0        0      0           2             6  ...   \n",
              "3                0      0        0      0           3             0  ...   \n",
              "4                0      0        0      0           6             0  ...   \n",
              "\n",
              "   pct_PL_enq_L6m_of_ever  pct_CC_enq_L6m_of_ever  HL_Flag  GL_Flag  \\\n",
              "0                   0.000                     0.0        1        0   \n",
              "1                   0.000                     0.0        0        0   \n",
              "2                   0.000                     0.0        1        0   \n",
              "3                   0.000                     0.0        0        0   \n",
              "4                   0.429                     0.0        1        0   \n",
              "\n",
              "   MARITALSTATUS      EDUCATION  GENDER  last_prod_enq2  first_prod_enq2  \\\n",
              "0        Married           12TH       M              PL               PL   \n",
              "1         Single       GRADUATE       F    ConsumerLoan     ConsumerLoan   \n",
              "2        Married            SSC       M    ConsumerLoan           others   \n",
              "3        Married  POST-GRADUATE       M              AL               AL   \n",
              "4        Married           12TH       M    ConsumerLoan               PL   \n",
              "\n",
              "   Approved_Flag  \n",
              "0             P2  \n",
              "1             P2  \n",
              "2             P2  \n",
              "3             P1  \n",
              "4             P3  \n",
              "\n",
              "[5 rows x 43 columns]"
            ]
          },
          "execution_count": 11,
          "metadata": {},
          "output_type": "execute_result"
        }
      ],
      "source": [
        "df1.head()"
      ]
    },
    {
      "cell_type": "code",
      "execution_count": 12,
      "metadata": {
        "colab": {
          "base_uri": "https://localhost:8080/",
          "height": 335
        },
        "id": "5ZKLz9rEFX-P",
        "outputId": "1b4207c9-3231-4b35-ca3a-6e8049887689"
      },
      "outputs": [
        {
          "data": {
            "text/plain": [
              "EDUCATION\n",
              "GRADUATE          14140\n",
              "12TH              11703\n",
              "SSC                7241\n",
              "UNDER GRADUATE     4572\n",
              "OTHERS             2291\n",
              "POST-GRADUATE      1898\n",
              "PROFESSIONAL        219\n",
              "Name: count, dtype: int64"
            ]
          },
          "execution_count": 12,
          "metadata": {},
          "output_type": "execute_result"
        }
      ],
      "source": [
        "df1['EDUCATION'].value_counts()"
      ]
    },
    {
      "cell_type": "code",
      "execution_count": 13,
      "metadata": {
        "id": "4wBkjz4k9qsM"
      },
      "outputs": [],
      "source": [
        "sample = df1[['MARITALSTATUS', 'GENDER', 'last_prod_enq2', 'first_prod_enq2']].head()"
      ]
    },
    {
      "cell_type": "code",
      "execution_count": null,
      "metadata": {
        "id": "afTDe2QW6sui"
      },
      "outputs": [],
      "source": []
    },
    {
      "cell_type": "code",
      "execution_count": 14,
      "metadata": {
        "id": "1anzUZPTqSiF"
      },
      "outputs": [],
      "source": [
        "from sklearn.preprocessing import OrdinalEncoder,OneHotEncoder\n",
        "from sklearn.compose import ColumnTransformer\n",
        "from sklearn.base import BaseEstimator, TransformerMixin\n",
        "from sklearn.pipeline import Pipeline,make_pipeline\n",
        "from sklearn.pipeline import Pipeline,make_pipeline\n"
      ]
    },
    {
      "cell_type": "markdown",
      "metadata": {
        "id": "jBMwUDH0OwjR"
      },
      "source": [
        "#final tuned model and pipeline for deployment"
      ]
    },
    {
      "cell_type": "code",
      "execution_count": 15,
      "metadata": {},
      "outputs": [],
      "source": [
        "from utlis1111 import preprocess\n",
        "\n",
        "\n"
      ]
    },
    {
      "cell_type": "code",
      "execution_count": 16,
      "metadata": {
        "colab": {
          "base_uri": "https://localhost:8080/"
        },
        "id": "L21i_EjXQ2yf",
        "outputId": "0714e1ab-3342-4684-f9bb-9822d8e942d7"
      },
      "outputs": [
        {
          "name": "stdout",
          "output_type": "stream",
          "text": [
            "Index([                0,                 1,                 2,\n",
            "                       3,                 4,                 5,\n",
            "                       6,                 7,                 8,\n",
            "                       9,                10,                11,\n",
            "                      12,                13,                14,\n",
            "                      15,                16,                17,\n",
            "                      18,                19,                20,\n",
            "                      21,                22,                23,\n",
            "                      24,                25,                26,\n",
            "                      27,                28,                29,\n",
            "                      30,                31,                32,\n",
            "                      33,                34,                35,\n",
            "                      36,                38,       '37_Single',\n",
            "                  '39_M',           '40_CC', '40_ConsumerLoan',\n",
            "                 '40_HL',           '40_PL',       '40_others',\n",
            "                 '41_CC', '41_ConsumerLoan',           '41_HL',\n",
            "                 '41_PL',       '41_others'],\n",
            "      dtype='object')\n",
            "Predicted values: [1 3 1 ... 2 1 3]\n",
            "Value counts of y_pred: [ 936 5605  813 1059]\n",
            "Accuracy: 0.77\n",
            "train_accuracy 0.96279456776916\n",
            "Class p1:\n",
            "Precision: 0.8205128205128205\n",
            "Recall: 0.757396449704142\n",
            "F1 Score: 0.7876923076923077\n",
            "\n",
            "Class p2:\n",
            "Precision: 0.8199821587867975\n",
            "Recall: 0.9110009910802775\n",
            "F1 Score: 0.8630985915492958\n",
            "\n",
            "Class p3:\n",
            "Precision: 0.43911439114391143\n",
            "Recall: 0.26943396226415095\n",
            "F1 Score: 0.33395696913002804\n",
            "\n",
            "Class p4:\n",
            "Precision: 0.7186024551463644\n",
            "Recall: 0.7395529640427599\n",
            "F1 Score: 0.7289272030651341\n",
            "\n"
          ]
        }
      ],
      "source": [
        "import numpy as np\n",
        "import pandas as pd\n",
        "from sklearn.preprocessing import FunctionTransformer, LabelEncoder\n",
        "from sklearn.pipeline import make_pipeline\n",
        "from sklearn.model_selection import train_test_split\n",
        "from sklearn.metrics import accuracy_score, precision_recall_fscore_support\n",
        "import xgboost as xgb\n",
        "\n",
        "# Define mappings and indices\n",
        "education_mapping = {'12TH': 2, 'GRADUATE': 3, 'SSC': 1, 'POST-GRADUATE': 4, 'UNDER GRADUATE': 3, 'OTHERS': 1, 'PROFESSIONAL': 3}\n",
        "education_col_idx = 38\n",
        "maritalstatus_col_idx = 37\n",
        "gender_col_idx = 39\n",
        "last_prod_enq2_col_idx = 40\n",
        "first_prod_enq2_col_idx = 41\n",
        "#expected_columns = pipe.named_steps['functiontransformer'].fit_transform(x_train).columns\n",
        "\n",
        "# # Preprocessing function with consistent dummy variable alignment\n",
        "# def preprocess(df):\n",
        "#     if isinstance(df, np.ndarray):\n",
        "#         df = pd.DataFrame(df)\n",
        "#     df.columns = list(range(df.shape[1]))  # Set default column indices\n",
        "\n",
        "#     # Apply mappings\n",
        "#     df[education_col_idx] = df[education_col_idx].map(education_mapping)\n",
        "\n",
        "#     # Dummy encode categorical columns with specified column names\n",
        "#     df = pd.get_dummies(df, columns=[maritalstatus_col_idx, gender_col_idx, last_prod_enq2_col_idx, first_prod_enq2_col_idx], drop_first=True)\n",
        "#     expected_columns = [\n",
        "#     0, 1, 2, 3, 4, 5, 6, 7, 8, 9, 10, 11, 12, 13, 14, 15, 16, 17,\n",
        "#     18, 19, 20, 21, 22, 23, 24, 25, 26, 27, 28, 29, 30, 31, 32, 33,\n",
        "#     34, 35, 36, 38, '37_Single', '39_M', '40_CC', '40_ConsumerLoan',\n",
        "#     '40_HL', '40_PL', '40_others', '41_CC', '41_ConsumerLoan', '41_HL',\n",
        "#     '41_PL', '41_others'\n",
        "# ]\n",
        "#     # Ensuring the column order is consistent with training data by returning all expected columns\n",
        "#     for col in expected_columns:\n",
        "#         if col not in df.columns:\n",
        "#             df[col] = 0\n",
        "#     return df[expected_columns]  # Return in the expected order\n",
        "\n",
        "# Preprocessor transformer\n",
        "preprocessor = FunctionTransformer(preprocess)\n",
        "\n",
        "# Define model\n",
        "model = xgb.XGBClassifier(objective='multi:softmax', num_class=4, colsample_bytree=0.5, learning_rate=0.1, max_depth=10, alpha=3, n_estimators=300)\n",
        "\n",
        "# Pipeline\n",
        "pipe = make_pipeline(preprocessor, model)\n",
        "\n",
        "# Example training data\n",
        " # Assume df1 is your DataFrame with labeled data\n",
        "y = df1['Approved_Flag']\n",
        "x = df1.drop(['Approved_Flag'], axis=1)\n",
        "label_encoder = LabelEncoder()\n",
        "y_encoded = label_encoder.fit_transform(y)\n",
        "x_train, x_test, y_train, y_test = train_test_split(x, y_encoded, test_size=0.2, random_state=42)\n",
        "\n",
        "# Fit the pipeline\n",
        "pipe.fit(x_train, y_train)\n",
        "\n",
        "# Capture expected feature names after preprocessing on training data\n",
        "expected_columns = pipe.named_steps['functiontransformer'].fit_transform(x_train).columns\n",
        "y_pred = pipe.predict(x_test)\n",
        "y_train_pred = pipe.predict(x_train)\n",
        "print(expected_columns)\n",
        "print(\"Predicted values:\", y_pred)\n",
        "print(\"Value counts of y_pred:\", np.bincount(y_pred))\n",
        "\n",
        "# Evaluate accuracy\n",
        "accuracy = accuracy_score(y_test, y_pred)\n",
        "train_accuracy = accuracy_score(y_train, y_train_pred)\n",
        "print(f'Accuracy: {accuracy:.2f}')\n",
        "print(f'train_accuracy {train_accuracy}')\n",
        "\n",
        "# Precision, recall, and F1 score\n",
        "precision, recall, f1_score, _ = precision_recall_fscore_support(y_test, y_pred)\n",
        "for i, v in enumerate(['p1', 'p2', 'p3', 'p4']):\n",
        "    print(f\"Class {v}:\")\n",
        "    print(f\"Precision: {precision[i]}\")\n",
        "    print(f\"Recall: {recall[i]}\")\n",
        "    print(f\"F1 Score: {f1_score[i]}\")\n",
        "    print()\n",
        "\n",
        "# New data for prediction\n",
        "\n",
        "##sahi\n"
      ]
    },
    {
      "cell_type": "markdown",
      "metadata": {
        "id": "3VJAZRofPHdV"
      },
      "source": [
        "#Testing the model"
      ]
    },
    {
      "cell_type": "code",
      "execution_count": 17,
      "metadata": {
        "colab": {
          "base_uri": "https://localhost:8080/"
        },
        "id": "Z9jwcpo_Uc4q",
        "outputId": "fa9b5af6-eb4c-484a-9b28-1a91257427d5"
      },
      "outputs": [
        {
          "name": "stdout",
          "output_type": "stream",
          "text": [
            "Predictions: [3]\n"
          ]
        }
      ],
      "source": [
        "test = np.array([\n",
        "    0, 0, 0, 0, 0, 0, 0, 0, 1, 0, 0, 16, 16, 424, 38, 1, 1, 0, 0, 0, 0, 0, 0, 0,\n",
        "    38, 0, 0, 108, 0, 18000, 122, 0, 0, 0, 0, 0, 0, 'Married', 'SSC', 'F', 'ConsumerLoan', 'others'\n",
        "], dtype=object).reshape(1, 42)\n",
        "\n",
        "# Prepare the test DataFrame with appropriate columns\n",
        "test_df = pd.DataFrame(test, columns=list(range(42)))\n",
        "\n",
        "# Convert numeric and categorical types\n",
        "for col in range(37):\n",
        "    test_df[col] = pd.to_numeric(test_df[col], errors='coerce')\n",
        "test_df[37] = test_df[37].astype(str)\n",
        "test_df[38] = test_df[38].astype(str)\n",
        "test_df[39] = test_df[39].astype(str)\n",
        "test_df[40] = test_df[40].astype(str)\n",
        "test_df[41] = test_df[41].astype(str)\n",
        "\n",
        "# Apply preprocessing on test data\n",
        "processed_test_df = preprocess(test_df)\n",
        "\n",
        "# Predict with the pipeline\n",
        "predictions = pipe.predict(processed_test_df)\n",
        "print(\"Predictions:\", predictions)\n",
        "##sahi"
      ]
    },
    {
      "cell_type": "code",
      "execution_count": 18,
      "metadata": {
        "colab": {
          "base_uri": "https://localhost:8080/"
        },
        "id": "tCQa9fXdhWBs",
        "outputId": "75ffaed3-f85b-4416-9a67-943c8cc58abd"
      },
      "outputs": [
        {
          "name": "stdout",
          "output_type": "stream",
          "text": [
            "Requirement already satisfied: joblib in c:\\users\\kaust\\appdata\\local\\programs\\python\\python312\\lib\\site-packages (1.1.1)\n",
            "Note: you may need to restart the kernel to use updated packages.\n"
          ]
        },
        {
          "name": "stderr",
          "output_type": "stream",
          "text": [
            "\n",
            "[notice] A new release of pip is available: 24.0 -> 24.3.1\n",
            "[notice] To update, run: python.exe -m pip install --upgrade pip\n"
          ]
        }
      ],
      "source": [
        "pip install joblib\n"
      ]
    },
    {
      "cell_type": "code",
      "execution_count": 19,
      "metadata": {
        "colab": {
          "base_uri": "https://localhost:8080/"
        },
        "id": "MFIZoEMahZwe",
        "outputId": "4c974ad3-06cf-4713-b92b-06631b4fe7ee"
      },
      "outputs": [
        {
          "data": {
            "text/plain": [
              "['model_1.joblib']"
            ]
          },
          "execution_count": 19,
          "metadata": {},
          "output_type": "execute_result"
        }
      ],
      "source": [
        "import joblib\n",
        "\n",
        "# Save the entire pipeline to a file\n",
        "joblib.dump(pipe, 'model_1.joblib')\n"
      ]
    },
    {
      "cell_type": "code",
      "execution_count": 74,
      "metadata": {
        "id": "8uxUf09G9c05"
      },
      "outputs": [],
      "source": [
        "\n",
        "# transformed_sample = trf1.fit_transform(sample)\n",
        "# print(transformed_sample)\n",
        "# trf1.fit(df1)  # Fit to the entire DataFrame to get all categories\n",
        "\n",
        "# # Get feature names\n",
        "# feature_names = trf1.get_feature_names_out(input_features=df1.columns)\n",
        "\n",
        "# # Print the feature names\n",
        "# print(feature_names)\n",
        "\n",
        "# # Optionally, create a new DataFrame with transformed data and new column names\n",
        "# transformed_df = pd.DataFrame(trf1.transform(df), columns=feature_names)"
      ]
    },
    {
      "cell_type": "code",
      "execution_count": 75,
      "metadata": {
        "id": "BgOUZ_u8CyUv"
      },
      "outputs": [],
      "source": [
        "# categories = [['OTHERS', 'SSC', '12TH', 'GRADUATE', 'UNDER GRADUATE', 'PROFESSIONAL', 'POST-GRADUATE']]\n",
        "# trf2 = ColumnTransformer(\n",
        "#     [('_', OrdinalEncoder(categories=categories, dtype=int), [39])]  # Specify dtype=int here\n",
        "# )\n",
        "\n"
      ]
    },
    {
      "cell_type": "code",
      "execution_count": 76,
      "metadata": {
        "id": "S4PyxEUBt8Ed"
      },
      "outputs": [],
      "source": [
        "# from sklearn.pipeline import Pipeline,make_pipeline"
      ]
    },
    {
      "cell_type": "code",
      "execution_count": 77,
      "metadata": {
        "id": "gXsP3JJeudS5"
      },
      "outputs": [],
      "source": [
        "# columns = x.columns\n",
        "\n",
        "# # Modify the pipeline to include ArrayToDataFrame\n",
        "# pipe = make_pipeline(\n",
        "#     # Convert NumPy array to DataFrame\n",
        "#     trf1,\n",
        "#     trf2,\n",
        "#     trf3\n",
        "# )\n",
        "# x_train.head()\n",
        "\n",
        "# pipe.fit(x_train, y_train)\n",
        "# # y_pred = pipe.predict(x_test)\n",
        "\n",
        "# # accuracy = accuracy_score(y_test, y_pred)\n",
        "# # print ()\n",
        "# # print(f'Accuracy: {accuracy:.2f}')\n",
        "# # print ()"
      ]
    },
    {
      "cell_type": "markdown",
      "metadata": {
        "id": "6y8TDUeJKIjj"
      },
      "source": []
    },
    {
      "cell_type": "markdown",
      "metadata": {
        "id": "OHiASVJmp8uT"
      },
      "source": []
    }
  ],
  "metadata": {
    "colab": {
      "provenance": []
    },
    "kernelspec": {
      "display_name": "Python 3",
      "name": "python3"
    },
    "language_info": {
      "codemirror_mode": {
        "name": "ipython",
        "version": 3
      },
      "file_extension": ".py",
      "mimetype": "text/x-python",
      "name": "python",
      "nbconvert_exporter": "python",
      "pygments_lexer": "ipython3",
      "version": "3.12.2"
    }
  },
  "nbformat": 4,
  "nbformat_minor": 0
}
